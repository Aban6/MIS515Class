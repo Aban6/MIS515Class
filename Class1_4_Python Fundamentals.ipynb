{
  "nbformat": 4,
  "nbformat_minor": 0,
  "metadata": {
    "colab": {
      "provenance": [],
      "authorship_tag": "ABX9TyMK+NKqgy/SpyAf6Ht+v7fX",
      "include_colab_link": true
    },
    "kernelspec": {
      "name": "python3",
      "display_name": "Python 3"
    },
    "language_info": {
      "name": "python"
    }
  },
  "cells": [
    {
      "cell_type": "markdown",
      "metadata": {
        "id": "view-in-github",
        "colab_type": "text"
      },
      "source": [
        "<a href=\"https://colab.research.google.com/github/Aban6/MIS515Class/blob/main/Class1_4_Python.ipynb\" target=\"_parent\"><img src=\"https://colab.research.google.com/assets/colab-badge.svg\" alt=\"Open In Colab\"/></a>"
      ]
    },
    {
      "cell_type": "markdown",
      "source": [
        "# Part One\n",
        "**Class 1**"
      ],
      "metadata": {
        "id": "O2D8mp0pqb7T"
      }
    },
    {
      "cell_type": "markdown",
      "source": [
        "**Let's get started!**\n",
        "\n",
        "*insert a link*\n",
        "\n",
        "[link text](https://colab.research.google.com/)\n",
        "\n",
        "*insert an image*\n",
        "\n",
        "![python-programming-language.png](data:image/png;base64,iVBORw0KGgoAAAANSUhEUgAAAu4AAALuCAIAAAB+fwSdAAAACXBIWXMAABcRAAAXEQHKJvM/AAAAB3RJTUUH5wYLEDYZboVp/gAALxNJREFUeNrt3fefVPWh//H7R32xAWKvQU1sMSY3xjS9ERABFexiiS32wlKlIwoqKIKoCApI2UZvywLL0nbZ3mfO53vG5OaaBN3Z3WnLPJ+P9295PJJh5sw5r8xO+a8AADBo/Ze7AACQMgAAUgYAQMoAAFIGAEDKAABIGQAAKQMASBkAACkDACBlAAApAwAgZQAApAwAgJQBAKQMAICUAQCQMgAAUgYAkDIAAFIGAEDKAABSBgBAygAASBkAACkDAEgZAAApAwAgZQAApAwAIGUAAKQMAICUAQCkDACAlAEAkDIAAFIGAJAyAABSBgBAygAAUgYAQMoAAEgZAAApAwBIGQAAKQMAIGUAAKQMACBlAACkDACAlAEApAwAgJQBAJAyAABSBgCQMgAAUgYAQMoAAEgZAEDKAABIGQAAKQMASBkAACkDACBlAACkDAAgZQAApAwAgJQBAJAyAICUAQCQMgAAUgYAkDIAAFIGAEDKAABIGQBAygAASBkAACkDAEgZAAApAwAgZQAApAwAIGUAAKQMAICUAQCQMgCAlAEAkDIAAFIGAJAyAABSBgBAygAASBkAQMoAAEgZAAApAwAgZQAAKQMAIGUAAKQMACBlAACkDACAlAEAkDIAgJQBAJAyAABSBgBAygAAUgYAQMoAAEgZAEDKAABIGQAAKQMAIGUAACkDACBlAACkDAAgZQAApAwAgJQBAJAyAICUAQCQMgAAUgYAQMoAAFIGAEDKAABIGQBAygAASBkAACkDACBlAAApAwAgZQAApAwAgJQBAKQMAICUAQCQMgCAlAEAkDIAAFIGAEDKAABSBgBAygAASBkAQMoAAEgZAAApAwAgZQAAKQMAIGUAAKQMAICUAQCkDACAlAEAkDIAgJQBAJAyAABSBgBAygAAUgYAQMoAAEgZAAApAwBIGQAAKQNkUTIZdXUnTje1VR2tL99f++226q/KqlZu2vfJht3L159V+3zzvvif9u326vifGf9j439yd08i/uc7BkDKAINGFEWnGlq/23l43uqKyXPX3P3Kxz9/bP6we6f9v3umFOHif3j8z4/vhPiuiO+Q+G6J75z4LnKcgJQBCipfwqFjp5eu2/HIzNU3PDb//DFTizNc0ll858R3UXxHLVm7I77TVA1IGSBvOrp6Nu449NyCtT9/bL5G6d/iuy6+A+O7Mb4zHVEgZYDcvAYTbd5d8/S8NVdNnK1FMrX4znxm3potu2v8+QmkDJAtpxpaZ68s+8XjC5RH9nbTEwvjOzm+qx1vIGWAjDlYW//03DXD75suNXKzC++b/uz8r+O73bEHUgYYkAM1dePf+ey80d7Jm4fFd/uEKZ/tr6lzHIKUAfqs+tjpR2euFjGFEDSPzFwdPxyOSZAyQFpa2jpfW7J+2NhpMqKAvqJm7LT4QYkfGscnSBngRyWjaNXmfVf7aFKhLn5o4gco6VNOIGWA/1Rb1zzu7RVDRimGgt6Qe6bED1P8YDliQcoA/xBF0Yrv9lw8fqZQGCyLH6z4IfMlNCBlgNDa3vXIjNVDRpXog0H28syokviBa2n37hmQMlDE9hw+daOvvBvMu/GJBXsPn3Ikg5SBYrRq894R42aogcG++EGMH0rHM0gZKCLJZDTtk83n+KPS2bL4oZz+yZb4YXVsg5SBs193T8/kOV+5/J99ix/W+MF1hIOUgbNZe2f3+HdWuOqfrYsf3I7Obsc5SBk4O7W2d/3ltWWu92f34oc4fqAd7SBl4Cx8PeauVz52pS+G3f3Kx+1emwEpA2eTjq6eUa8vd40vno1+45POLu+bASkDZ4WeRHLi1JWu7sW2SdNWxg+94x+kDAxuURS99N43ruvFufih9+MGIGVgcFv4ZeUQF/Ui/u3J+ADwLAApA4PVpp1HLhgz1RW9mHf+mKnxYeC5AFIGBp+jp5qufHC2a7nFh0F8MHhGgJSBwaSrO3HnC0tcxe3vu/OFpfEh4XkBUgYGjbc+2uj6bT9cfEh4XoCUgcFhy+6a87PzFpkho6acM7rkgjFTh9477dzRJUP8IOWgetNMfGB4doCUgULX1tF1w2PzM3gJPG90yW+fX/LG0o1flx88fLyhLfWl+KnP93Z2dteeatqw4/D0T7fc/eqyoWOnyYUCX3xgxIeH5whIGShor7z/baaufBePn/nGhxurjzWk890kJ0+3zl9dPvLheYqhkPfqB+s9R0DKQOGqPHDsvEz8aWnovdPiiGlp6+zrDejpSXzw9fbLHpglGgpz8eERHySeKSBloBAlk9GdLy4d+NXu9mcW7ztyaiC35FRD631vr9ANBfpppheXxoeK5wtIGSg4n2zYPfDr3MMzVndk4keVk1E0dfnmc70vuCC3YuMezxeQMlBYWtu7Rj4yd4BXuBcWrk0kM/YDhFEUlq7dfu5oNVNwG/nIvNZ27/8FKQOFZO7n5QO8vD0684tEFn5Iec6qMj8CVYCLDxjPGpAyUEAvyVw1cUC/UfDb5z7o7snKt8FGUTR5zpfSodAWHzBemAEpA4VizqqygVzVRoybcehYQ/ZuXltH101PLFQPhbb4sPHcASkD+dfZ1TPy4QG9S2bGii3ZvpEbth/y1cAF946Zh+fGB49nEEgZyLPl6wf0waVrHpqTg+tZFEWjXv9EPRTaPvVRJpAykF/JZPSbZ98fyMVs3uocvf1z866ac7wwU2CLDx7fMQNSBvJpe9XxgXw+aPjY6XWNbbm5qYlE8pbJi9RDQS0+eOJDyPMIpAzkzVNz1wzkSjbu7RW5vLUlyzerh0LbM/PWeB6BlIH8aG3vunj8zIFcxhZ9VZnLG1y+r1Y6FNoumTDTp7JBykB+rN66f4B/XNh96GQub3BXd2JoJn7t0jK7+EDybAIpA3kwcdqqgVzAzh8ztam1I5c3OIrCrU+9Jx0KbfGB5NkEUgZyra1joH9duvKBd3N/s+9981PpUGiLD6T4cPKcAikDObVh++EBXsBufHxB7m/2pGmfS4cCXHw4eU6BlIGcemnxNwO8et38xMLc3+xHZ32hGwpw8eHkOQVSBnLq5icH+qtGP5s0J/c3e8I7n+mGAlx8OHlOgZSB3KlraD139EC/OXfEuBmJZDLHt/yPL32oGwpw8eEUH1SeWSBlIEfWlFVl4Oo1qqT2VFMub3YyGV354GzdUJiLDyrPLJAykCOvfrA+I1evrysO5vJmn6hvGTJKNBTo4oPKMwukDOTI3a98nJk3e76X0zd7Lt+wWzEU7OKDyjMLpAzkQk8iec1DczJy9frF4wt6ehI5u+UTpnjPb+EuPqjiQ8vzC6QMZN3x+paBv+f3n9u652hubnZ9U9uF901XDIX8zt/40PL8AikDWRfHRwYvYPe9laMfx56ybJNcKPDlrGtBykBR+3h9Jt9xcs6okl3VJ7J9mxtaOi69f5ZWKPDFh5bnF0gZyLqSZZszewG788Wl2X6TxDPz1giFwl98aHl+gZSBrHti9pcZv4a9+1lp9m7w+u2Hzhs9VSgU/uJDy/MLpAxk3bi3V2T8GhanxuZdR7Jxa2tONl41aY5KGBSLDy3PL5AykHW/z853/186YdbuQxl+00x9U9utkxdJhMGy+NDy/AIpA1l34xMLs3Qlu/yBWRX7ajN1O2tPNd36lI4ZTLvxCT8qCVIGsu/abP69Zvh90z/6ZmcURQO8kVt311zj70qDbdfm48fSQcpAcYkT4+os/yLjkFElE6d9fqyuuX+3sLW969UP1p8/xvt8B9/iQyvyHAMpA9lNmShcMm5GDq5qF4+f+eaHG+saW9O/bW0dXYu+rPzZw3M1wSBdfGhFWgakDJwdKfP3jRg348GpK9eUVTW1dvzYTero6tmy68hzC9Ze8eC7akDKgJQBCihlfvBp7ZJbn3rvgZKVf3v/25Jlm6ct3/zKkg0Pz1j933/9YNi900SAlAEpAxR0ypiUAaQMSBmTMiBlQMpIGZMyIGVAyphJGZAyIGVMyoCUAaSMSRmQMiBlzKQMSBmQMiZlACkDUsakDEgZQMqYlAEpA1LGTMqAlAEpY1IGkDIgZUzKgJQBKWMmZUDKgJQxkzIgZUDKmJQBKQNIGZMyIGVAyphJGZAyIGVMygBSBqSMSRmQMoCUMSkDUgakjJmUASkDUsakDCBlQMqYlAEpA1LGTMqAlIHB5FRjy8mGZut1zy1Yq06kDEgZYLB6fekGdSJlQMoAUkbKAFIGkDJSBqQMgJSRMiBlACljUgakDCBlpAxIGXcBIGWkDEgZACkjZUDKQF/EJ30r5L2+RMpIGZAyFHWpRI0tHTsPnvii9MDslWXPLVz3QMnKu1/9+JdPv3fdI/OumTTn8gmz4lO/FeyGjpmqTqQMSBmKS0dnd9ne2lmfld5fsvKmJxcOu3eay5tJGUDKUNB6epJ7j5yK8+XPL380bKx2MSkDSBkGg2Qy2nbg+Cvvr7/+0flDXMbM0kyZpo3h4OQM79Dz4fBL4cjroXZGOPFeqF8VmraEjsMh0eZMhZSBM6hraH13ZdlNTyw8Z1SJq5dZ31Lm+MKw9YKcbFgovShU3hD23Rdq3gp1n4WO6hD1OIMhZSheURRV7j/24NRV/opkNhhS5j83NFReH/ZPTL1y034w+GMYUoYi+ltSFK2rOPinv33kZRizwZwyP1jp8LD9lnD4ldBSGaKEsxxShrM5YjbsOPz7F5e6SpmdVSnzw227KRx5M7RXOeMhZTjb7DtS95fXlg0Z5RJldlanzD9fp9nzl9Rbhr1Ig5ThLNDQ3P7cgrXnjvbnJLOiSZn/e5Hmxii+kT3NzoRIGQalKIo+37zv6klzXJbMijRl/r6Kn4Vj7/o4N1KGQaausXX8Oyt8SYyZlPm/oDm5JCS7nB6RMgwC31RWX/OQF2PMpMx/bOcdoWmTkyRShsLV3ZN47YP13hljJmV+6gv3qh4J3fVOmEgZCs7J0613vfyxi5CZlEnj703XhroVvlsPKUMB2VV98mcPz3UFMpMyffjK4KpHQ0+j8ydShvz7prL64gkzXX7MpEw/PrAdmrc6iyJlyKePv911/piprj1mUqa/X6k3IhyfH4I/NiFlyLn4xLPgiwq/pmQmZTKwqsdCst15FSlDTr37WekQHWMmZTK13XdF3aedWpEy5Oj1mPmrK3SMmZTJ8LbfHDoOOcciZci6pet2+ruSmZTJyiqvC237nWaRMmTR2oqq87zP10zKZG/lV0ctO51skTJkxfaq4xeNn+FKYyZlsl4zrXuccpEyZNjJhtZr/biSmZTJ0V+aRob2g068SBkyprO7548vfegaYyZlcvgFej8PXcecfpEyZMbfFn/jAmMmZXL+Y9q/C4lWZ2CkDAO1pqxqiAuMmZTJy/beG6Ie52GkDP13qqH1igffdXUxkzJ5W807TsVIGfopmYzGvPmJS4tZLnfp+JlppMz8IkqZrcPC6S+ckJEy9McnG3a7rpjleFdPnN37jyvWvltMKXNBKL8idB51TkbK0Oc/LV3+gD8tmeV6Ix+e2/vz8+g7xZUy3/9IU4i6nZmRMvTBk7O/clExy/1unryo16dndOSNokuZeEenOzMjZUjX9qrj5472Q0tmedifXv6o96fooeeLMWVKR/iFJqQMaUlG0Z0vLHVFMcvLxr/zWe/P0gMPFWPKpP7M9EefzUbK0DtfJGOWxz01d03vz9I9fynSlIl3YpGzNFKGn9KTSNz+zGKXE7N8bcaKrb0/UXf8unhTpuKa0F3vXI2U4Ud9sXWfa4lZHrfiu729PU2jUH5l8aZMvEMvOFcjZfiRE2QU/frZ911LzPK4yv29/YZi9+lQOryoU6Z0RNRe5YyNlOEMvtt5xIXELI87f8zU+qa2Xp6obXvC1qFFnTJbL4gOPOqMjZThDO71MwVmed11j8xLJJK9PFFPf1nkHfP9CzPDQ9tuJ22kDP/i8PGG+P8RupaY5XFj3/q09+dq7Qwp8/0LMw87byNl+BdvffSdC4lZfjdl2aben6sHJumYf3xjnh9mQsrwT4lE8ppJc1xIzPK7jTsO9/ZkjcL223TMP3b4ZWdvpAz/sHmXN/ya5f89v00tHb08V3uaQtklIuZ/fzH76tDT7ASOlCHl6XlrXEjM8rvfPPt+78/Vps0K5l9Wt9wJHClD6OzquXLibBcSs/zurY++6/3p6j2///6rTHc7hyNlCKV7j7qKmOV9Fb1+OV5s71j58u8fZeo45DSOlCl2byzd4Cpilt9dNXF2Z3dvv/kc9YSyy7XLv692htM4UqaoRVF0+zN+rMAsz3tq7le9P12by4TLGbbjNyFKOplLGYrX6ab2c0eVuJCY5Xebdh3p/ela85ZwOdMXzAwLfpJJyrgLitm6yoOuImb53dWTZvf0JHp9CTXsvEO4nHknFjuZSxmK12tLvFHGLM97Y+mG3p+rHYdC6YWq5czbO9bJXMpQvO565WMXErM87txRJdXHTvf6VI2OzZEsP7qyy0Ky0/lcylCMEsnkFQ++61pilsf9z6vLoqj3kvHXpV7Wst0pXcpQjI7XN5832q9hm+VtQ+6Zsrb8YBp/XaoOW4fqlZ/asXlO6VKGYrRh+yHXErM87ran30ske39NJhx5Q6z0sgOTnNKlDMVoybodriVmedzSdTt7f6ImO0LldWKll22/1SldylCMfHzJLI+78YkFXd2J3p+o9Z8rlTTe+Xtx6mfDkTIUm4dmfO5yYpavfbZpTxpP0yjsGaVUvPMXKcOZ3fWyT2Kb5We/enpxd08aL8m07vKG33RXv9JZXcpQdG57ZrErillePrj03c4jaT1Lqx7XKGn/ruRMZ3UpQ3HpSSSvfWiui4pZ7jfunRXpPEmjjppQOkKjpLvqZ53YpQzFpas7cdn9s1xUzHK8i8bPOHKiMa2UOfiUQPHzBUgZflRHZ/eIsdNdV8xyvPlfVKT3FD0YSi8SKH3Yrj84sUsZikt7Z/fwsdNcV8xyuTueX5JIJNN6ilY9oU76+NUyt4Qo6dwuZSgibR3dF4zxqwVmuduIcTMOHK1P7/m52+9g93kVI0PU7dwuZZAyZpatTy29v2ZbWk/OKBH2/EWa9HnlV/l9bCmDlDGzbO3+KSuT6fzcUuz0F75Lpl9f+HuFlJEySBkzy8pufnJhU2t6V9lEW6j8uS7pz0ovDol253Ypg5Qxswzv4gkz032LTOzwy6KkvylzkZSRMkgZM8vwzhtd8nX5wXSfli2VvhNPyiBlkDJmhbJzRpUs+rIy3edksiPsuF2RSBmkDFLGrFD22gcboihK9zl5+FU5ImWQMkgZs0LZCwvX9uEJ2bA2bB0mR6QMUgYpY1YQe3L2V+l+q2+s+1SovF6LSBmkDFLGrCC+Cu+5BV/3oWOSXWH3XUJEyiBlkDJmBdExr76/Pt2vwkuJwuG/qRApg5RBypgVxOeuZ68s68P7fGOnlvtiXymDlEHKmOV/w++bvnrL/r49CZs2pa6+EkTKIGWQMmb53chH5m07cKxvz8D2/aH8av0hZZAySBmzPG/MG580tvTxCtpZG7b5oSUpg5RBypjldeePmTrj06096X9Y6XtRV51v9ZUySBmkjFmed8vkRTsOHu/zE6+nMdrxG9khZZAySBmz/H1SaczUN5ZujJ9BfX3SpV6P2Xmn5pAySBmkjFneducLS/vzYkys65i/K0kZpAxSxixvu2bSnOXrdyeSyf483zoOhW03qQ0pg5RBypjlYZdOmDVzxdaWts5+Ptmay0PFtVJDyiBlkDJmud5l988qWb65saWj/8+0+s99D56UQcogZcxyvRsem7/oy4rm1s7+P8eiRKiZEkovFBlSBimDlDHL0YaOnTZhymffVB7s67fF/Lvu02HfOHkhZZAySBmzXOycUSV3vrB00VeVx+tbMvDsaqn0Jl8pg5RByphlfRdPmHnf258uXrPteH1zZp5XUbc/KkkZpAxSxixbG3LPlCsfeHfsW5/O/Ky0bO/Rto6uTD6pOg6F3XdLCimDlEHKmA0oVs4dVRIf2yPGzbhy4uxfTn4vDpfnF66bt7pi487DdQ2t/fximJ+W7Aq1M31SScogZZAylsldNG7GTU8uvOe15c/M//qtD7+bs6r8k4171pUf3Lj90JZdNRX7j+2sPrGr+uSZdmLXIPyPdh86eeBo3eETjbWnmuJkaU/9sECUi+dSc1nY+TslIWWQMkgZG+ivNN/85MJHZq6etbL0m8rqE/XNnd09URQ51LOoszZUPRpKh8kIKYOUQcpYfxY/gnc8v+SNDzeuqzhY19jqqM6dnsbo6LRQdomAkDJIGaSM9XmXTJj58IzVn27cU9fY5nWXXEu0htoZofxq6SBlkDJIGetrwcyKC2ZNWVVHZ7cDOA+6ToajJaHiGtEgZZAySBnr2+54bsmH3+zs/88ZMkDtB0L1X0PZpXJByiBlkDLWh1143/TJc77ae/iUwzU/eprCqWVh1x/D1qFCQcogZZAy1odd/sC773y86cTpFgdqHiQ7QsPXoeqJUH6FPpAySBmkjPVtlz0wa/qnW5r9LSnXotBdF+o++75grpQFUgYpg5SxPm/42Olvf/RdQ7NzcQ5114eGdaHm7bDrD344ScogZZAy1v+fZX5o+uc1J5scltl82SUZkp2h83ho/DYcm5P6arsdt4fSEQpAyiBlkDI2oN3+zOKte2py9DeU+ETfXZ/6jtqOQ1Hb/tC262xby7bQXBqaNoWGb6K6FeH4gtTvVFf/NewdG7bfGsoud72XMkgZpIxlbMPGTp/+yZau7kQWoiWReudHfEU/vjAcfinsGx92/DpUXBvKLvv+Jw990b5JGaQMUsYGtj+8uPRgbX0mH9FEW2ipSP3pJA6Xiutc2EzKIGWQMpaVnTe6pGTZ5u6ezLwYE3UeDyeXhH0TQvlVLmYmZZzbpQxSxrK76x+dX7G/NgOPX+ex6PiisOtPvr3NTMogZaSM5Whj3vzk9AA/ax31hIZvUq/B+OiNmZRBykgZKZOznTu65I2lGxKJZP8fsERzdOK9sO0mVywzKYOUQcrk+pNKKzftjfr9UPU0hKNTU58/cq0ykzJIGaRM7n9NqXTv0f6+EtMSameFiqtdpcykDFIGKZOH/fzxBdXHGvrz8EQ9oW5FqLze9clMyiBlkDL52S2TF9XWNffnsWndFXb/2ZXJTMogZZAyedtvnn2/rrG1739RagtH3vTpJDMpg5RByuRztz39Xn9+4Lp1e9jxKxckMymDlEHK5HM3PbGwz6/HRD2hdsb3v47kgmQmZZAySJn8beQj8/r8/pju06nfbXYdMpMySBmkTH532f2z9tf07Rcio9advvXOTMogZZAy+d8F907btPNI3x6D01+EsktdgcykDFIGKZPnnTOqZNm3u/r0ckw4viCUDnf5MZMySBmkTP730nvfROn/MEGUDEfecOExkzJIGaRMQewPLy7t7O5Ju2MSUfULYetQFx4zKYOUQcrkf1dNnH3idEv6HROqn3XJMZMySBmkTKG8RWZtxcH07/Po0EuuN2ZSBimDlCmct8isSz9jQs3bLjZmUgYpg5QplN06eVFHZ3e6IXNisffHmEkZpAxSplB2/pip5ftq072vG9aF0gtdacykDFIGKVMoe37h2nTv6PaqUH6ly4yZlEHKkPmUGSpl+rWfPTy3tb0rrXs50RK23+YaYyZlkDJkXkdn94ix03VJXzfknimrNu9L7z6OwoGHXGDMpAxShuykTFfPReNmSJO+7s8vf5RIpvfNvieXequvmZRBypAtXd2JKx54V5r0aeeNnrqr+kRa92/7wVB2uauLmZRBypAtyWTy+kfnq5M+7eEZq9P7y1Iy7PqTS4tZTld2WUh2OLdLGYrLfz/3gTpJfxeMmVpVezqte/b4AtcVs1yv/MqQ7HRilzIUl3teWyZQ0t9Tc79K627tOBLK/WnJLOeruDYku5zYpQzF5cnZXwmU9F+SqTnZmNbduv8BFxWzPGzbL1K/2IqUoahM+2SLRklzk6Z/ntZ92rTFp5bM8rOd/+2sLmUoOp9u3KNR0vwF7J3pfHAp6g4773BFMcvP9o5xVpcyFJ3yfbUyJZ3d9crHUdT7d8lEdStdTszytqrHnNWlDEWnobl96L3TlEqvW70lja/3jXrC9ltdTszytpq3ndWlDMXoBl8t09uunji7o7O797vy1HLXErN87tTHTulShmI0YcpKsfLTe+WD9Wm8JJMIO37jWmKWzzVtdkqXMhSj2StLxcpP/3hk1dH63u/Hxm99cMksr79acGHoOuGULmUoRt75+9P71dOL03jDbxT23utaYpbn78eLkk7pUoZi1NnVM+K+6ZLlxzbj062934kdR0LpcNcSM5/ERsqQH6NeXy5ZzrhzR5dUH0vjR5dq3nEhMcv3x5fecTKXMhSvBV9UqJYz7ran30v2+telZHeovN6FxCzPa1zvZC5lKF5VtfXnjCoRLv+5V9P47FLUtNkbfs3y/57f7gYncylD8Uomo1smLxIu/7ktu2t6v/uqn3MhMcvzdv0+9e57pAzFbMqyTcLl33bRuBld3T29ZWBnqBjpQmKW5x2d4jQuZSh21cdOa5d/2/+8uqz3O66lwlXELP9rqXQalzIQ7nh+iXz54aYuT+ObQ+P/L+gqYpbfVV6Xen0UKQMffrNTvvxwm3Yd6f1e2/k7FxKzPO/Qc07gSBlSmts6L71/loL5+4beO62xpaOXu6ynOZSOcCExy/OatzqBI2X4hxcWrRMxf98vHl+QTPb2gYimTa4iZvn/65LfK0DK8E81JxvPG+0LZlJ7cOqq3u+vo1NdSMzy/dmlEqdupAz/YuK0VTomXkk67/ndN96FxCyv34w3IvULaCBl+KEdB0+c64WZe6as3rK/l3sqSoZtN7mWmOVz++530kbKcAYPTS/2F2aG3DNlZ/WJXu6m7tPe82uW1w0NTVucsZEynEHV0brzxkwt8h/Erm9s6+VuatnuWmLmxwqQMhSovy5YW8wpc/H4Gb3/IHb9564lZnl8SSY6/ZVzNVKGH79MN7Zd/sC7RZsyNz6+oPf76NhslxOzfL4kEyWcq5Ey/JQFX1QUbcr86ZWPer+DDvlBbLP8vUumYZ2zNFKGXvT0JH73wtLiTJkJUz7r/Q468JArill+tvtu75JBypCWvYdPnV+U7/+dPOer3u+dPfe4opjl47tkLgxte5yfkTKka+ryzUWYMq8uWd/7XbPjdhcVszzs4DPOzEgZ+qC7J/HHlz4stpR5e9mm3u+abTe6qJjlehUjQ3edMzNShr6pOdl48fiZRZUy0z9N43u3Kq93XTHL9epXOScjZeiPz7fsO2dUEf2aweyVpb3dJVEov8Z1xSy3P1Mwzo9gI2Xov9eWbCielJmzqkzKmBXWKv1pCSnDwPQkkqNeXy5lpIxZPjYsNHzjPIyUYaCa2zp//exiKSNlzHK9I286AyNlyIzauuZrH5orZaSMWe62Z1RIdjn9ImXImANH6698cLaUkTJmOXmLzM+9RQYpQ+btPnTisvtnSRmXGbPsrvyK0LrLKRcpQ1bsqDp2+QOzpIyZZe0HCi6KGjc42SJlyKK9h09dPWmOlDGzLHTM8FD3idMsUoasqz52+obH5ksZM8vwR69PvO8Ei5QhR+qb2n7/4odSxswy9HrMsHB8nlMrUoacauvofmj651LGzLweg5RhsEpG0dxV5eePmSplzKzf7/MNdZ86nSJlyKfNu2p+9vBcKWNm/fnctc8rIWUoBI0tHQ9OXTVEyphZ+tv2i9C23/kTKUOhiKJo+fpdVz74rpQxs963d2zornfmRMpQcOoaWydOW3XOqBIpY2Y/+uUxNW+HqNsJEylDwb48E77befhXzyyWMmZ2hh9XalzvPImUYRDo6k4sXrPtqomzpYyZfb+h4cAkf1RCyjDItLV3zlix9YpB8gYaKWOWtRdjbgin1zglImUYrJpbO+d9Xn7dI/OkjFnxvTPmwujwK6GnwZkQKcOgl0gkV27a++eXPzp3dImUMSuKvyjtGxfaq5z9kDKcbQ4crXt96YYCfJFGyphlbLvvDk2bU08ZkDKcxS/SVB449rfF3/z8sfkF8jqNlDHLwK8p7RkVGjeKGKQMRSSZjA7Wnl74ZeWEKZ9dM2mOlDEblCu7NFQ9EVp3iRikDEWtpydZfez0pxv3vLZkw5g3Pxn58NyhY6fl7Av3pIxZf16G2XF7OL4wdHtjL1IGzpQO7R1dR040bt5Vs3LT3vfWbJuybPPLi799cdG6Z+d/PXnumsxu/fZDUsYs3bf0br819aW9bXtCSDpVIWVg0KSVlLHi/ivSZWHv6HB8XmjfH6IeZwSkDEgZs4Jvlx2/ClWPRscXhJZtIdnlLICUASlTfO8Gje80K9hVjAzbbgzbbwk770j9WnXV4+Hwy+H4otDwdWjbFxIt3saLlAEpU9yreef7a6EV8kDKgJSxH9vRKY4bQMqAlBnUr8oASBmQMl6VAZAyIGW8KgNIGZAy5lUZQMqAlCmKV2WkDCBlQMpIGQApA1JGygBSBqSMQOnDokN/izpPWO/rOukJBlIGpIwN2sWHli/eBSkDUsakDEgZQMqYlAEpA1LGTMqAlAEpY1IGkDIgZUzKgJQBKSNlTMqAlAEpYyZlQMqAlDEpA1IGkDImZUDKgJQxkzIgZUDKmJQBpAxIGZMyIGUAKWNSBqQMSBkzKQNSBqSMSRlAyoCUMSkDUgakjJmUASkDUsZMyoCUASljUgakDCBlTMqAlAEpYyZlQMqAlDEpA0gZkDImZUDKAFLGpAxIGZAyVlgruzjs+kM4+GSoeSvUzgq1M8KRN8KBR8LO34bS4VIGpAxIGSvIVYwMh18OzWUh2fWjj3OiLTR8G6oeDeVXSBmQMiBlrDC27Rfh5Ach0d6HB7z7dDg6NUdBI2VAykAuVN6gCQbfSkeEI2+lXmvpn66ToerxsHVodm9kfGgBUgaybtuNymCQLU6E5tIMvCBX91kouyybLxrd6OkFUgayb/tt4mAwbedvQ+exjD36LdtDxc+ydVPjQwuQMpB1u+/SB4Nl0Y5fh57TmX38o7Z9ofzqrNzg+NACpAxk3f4HJMIg+bvS9Zl8PeaHmrek3nyT8RscH1qAlIGsq35WJQyG9/leGJo2ZfEwODYv8+8Cjg8tQMpA1tXOFAqDYIdeyO5hECUy/6fG+NACpAxkXd2nQqHgvwTvmtDTmPUjoW1vKB2WyZsdH1qAlIGsay7TCoW+2hk5Ohj2T8zkzY4PLUDKQNZ1nUq9D0MuFO4vK10auutzdDC0VGTyzT3xoQVIGci6qCdUXqcYCncHHs7pwbD9lxn6vNV1qf82QMpALuwdoxgKd/WrcnowHHktMzc7PqgAKQM5UvO2YijUDU39XlIuNX6bmVseH1SAlIEcaVgrGgr3a/FCMqcHQ9eJUDo8A7c8PqgAKQM50l0ftg7TDYW4Pf+T64MhSobyKwb8nt/huXurMkgZIGXH7bqhIN/z+1AeDoZtNw/0Zu/4tacUSBnIrcOv6IZCXPXT+ejaXw/0ZseHEyBlIKeavtMNhbiqx/JwMAz889jx4QRIGcipRFsov1I6FNz2TcjDwVAxsO8Zig+k+HACpAzkWtWj0qHgtuM3IUS5jtrSEQN7JelRTyaQMpAPp9dIh8L71YJLQrIrp4dB277Ul9kM5DbHBxIgZSAPEu2h/Cr1UHBr2Z7Tw+DE+wP769JVqQMJkDKQH9XPSofi/Vnsv9s3YUC39tBznkYgZSB/WncM9I8Llvm3y/wq9bV1udFdn/oh7oH8zEJ8CAFSBvImvmTu+p16KLANC81lOToAji8Y0E3d+bvcVRdIGeDM6leqh8L7SPZ9ufgcU7Ir9ZNPA/oR75WeQCBlIN/i69m2X6iHgnthJgdfOnds9oBu5LYbc/1hK5AywJkN8K8Mlo1tvy273zvXUR3KLh/QLYwPG0DKQEGIL5mV16mHwvs9pmez9WemZFfYdeeAblt8wPiGX5Ay4IUZ6+XzQdl45SNKhKrHB3rbvCQDUgYK7IWZ9rDtJvVQcCsdHp38MJOvzUSJ6NDLA/0Efnyo+Fo8kDJQcOo+kw6FWTOpL83LyGeekx0ZeD0mXnyoAFIGCk8Udv9ZOhTuL2Z3nRrQw9teFXbekYFbsvuuXP/gJUgZIF2tOwb6I8mWvVVcE0580J/PP/c0h5q3Q9nFmXiJaISv9wUpA4XtyJuioaBX+fPUW27TfIWm42AqYsqvyNj/+pHXPUVAykBhS7SFbTcrhkJf2cVh7+hw7N3QuDF0HguJjhCiWEi0hI7DoWFdqHkr7Pp9KL0wk/+j8YHh3b4gZWAQaN7qz0yD7DPbpcNS1ZLasGz9Pmh8SMQHBiBlYHComSIR7F8WHxKAlIFBI9kddt/t+m3/+6mlu1OHBCBlYDDpOh4qR7qKW+ow6DzmCQFSBgahpi0Zft+oDb4v6LswdRgAUgYGqxMfZOttpDYo3lAcHwCAlIHBLApHXnNRL9KlvkXGF/uClIFBHzM90YFHXNeLbakHPepx+IOUgbNCsivsu8/VvZh+8ml8f34hAZAyUMA10576elnX+GJY/EAnfasvSBk4+yTawt4xrvRne8eM0TEgZeAsfm2mI9o/0fX+rH1/zP5J8UPsMAcpA2d3zXSH6udc9c/CxQ+rr/QFKQNFIUpGtbO//+VCBXB2fA/esNQDGiUd2iBloJh65vSXofwKHTDoFz+I9asdzyBloCi1V4Xtv1QDg3jxwxc/iICUgeKVaA1VT/hxg0H5owQHJ6cePkDKQNGLQv2qUH6lPhg8f1S6MvWQ+VECkDLA/+k6HvY/6OWZQfBiTPwwxQ8WIGWAM788U3m9YijQxQ9N6h2+XowBKQP8hERLVPNOKLtEOhTQyi5JPSiJFocnSBkgPR1HoqonQumFMiLf3xlzYVQ1OX44HJIgZYA+i9r2RQceCqXDJUU+ImZ42D8pfggchyBlgIEFTfuhcOiFUHaZvMjVn5MuS93hHdWOPZAyQOZ014fj832lXta/8i6+k+O7GpAyQJZeownNpanXDCpHKo/MfTRpZDj0YuqOjXw6CaQMkBvJztC0ORz+W9h+qxbp72swt6buwKZNqTsTkDJA3l6n6TgcTn0cDj4Ztt0cSi/SKD/+Tt6LUnfRwadSd1d8p/mGGJAyQMFlTXddaN4STiwO1X8Ne+9NvfBQtF9RE//Dt9+SuhPiuyK+Q+K7Jb5z5AtIGWBQSYaoO/Q0pl6EaNkWNW4MDWvD6S9C3cqzbfE/qmFt1Lgh/mem/rHxPzn+h0dJRwBIGQAAKQMAIGUAAKQMACBlAACkDACAlAEApAwAgJQBAJAyAABSBgCQMgAAUgYAQMoAAEgZAEDKAABIGQAAKQMASBkAACkDACBlAACkDAAgZQAApAwAgJQBAKQMAICUAQCQMgAAUgYAkDIAAFIGAEDKAABIGQBAygAASBkAACkDAEgZAAApAwAgZQAApAwAIGUAAKQMAICUAQCQMgCAlAEAkDIAAFIGAJAyAABSBgBAygAASBkAQMoAAEgZAAApAwAgZQAAKQMAIGUAAKQMACBlAACkDACAlAEAkDIAgJQBAJAyAABSBgCQMgAAUgYAQMoAAEgZAEDKAABIGQAAKQMAIGUAACkDACBlAACkDAAgZQAApAwAgJQBAJAyAICUAQCQMgAAUgYAQMoAAFIGAEDKAABIGQBAygAASBkAACkDACBlAAApAwAgZQAApAwAIGUAAKQMAICUAQCQMgCAlAEAkDIAAFIGAEDKAABSBgBAygAASBkAQMoAAEgZAAApAwAgZQAAKQMAIGUAAKQMAICUAQCkDACAlAEAkDIAgJQBAJAyAABSBgBAygAAUgYAQMoAAEgZAAApAwBIGQAAKQMAIGUAACkDACBlAACkDACAlAEApAwAgJQBAJAyAICUAQCQMgAAUgYAQMoAAFIGAEDKAABIGQAAKQMASBkAACkDACBlAAApAwAgZQAApAwAgJQBAKQMAICUAQCQMgAAUgYAkDIAAFIGAEDKAABSBgBAygAASBkAACkDAEgZAAApAwAgZQAApAwAIGUAAKQMAICUAQCkDACAlAEAkDIAAGfy/wFjzsuMi0JnSAAAAABJRU5ErkJggg==)\n",
        "\n",
        "\n",
        "\n"
      ],
      "metadata": {
        "id": "heSEB5ecpl7o"
      }
    },
    {
      "cell_type": "markdown",
      "source": [
        "# Part Two"
      ],
      "metadata": {
        "id": "J9hceYPRsgbe"
      }
    },
    {
      "cell_type": "markdown",
      "source": [
        "**Class 2**"
      ],
      "metadata": {
        "id": "Z5mTj0LCqUNV"
      }
    },
    {
      "cell_type": "code",
      "source": [
        "%autosave 60"
      ],
      "metadata": {
        "id": "7epTnIHkC-nF",
        "outputId": "6f9c29ec-6ac2-42bc-c33c-7e2dc3e894ea",
        "colab": {
          "base_uri": "https://localhost:8080/",
          "height": 34
        }
      },
      "execution_count": 1,
      "outputs": [
        {
          "output_type": "display_data",
          "data": {
            "application/javascript": [
              "IPython.notebook.set_autosave_interval(60000)"
            ]
          },
          "metadata": {}
        },
        {
          "output_type": "stream",
          "name": "stdout",
          "text": [
            "Autosaving every 60 seconds\n"
          ]
        }
      ]
    },
    {
      "cell_type": "markdown",
      "source": [
        "**Python fundamentals**"
      ],
      "metadata": {
        "id": "5CxTNCCdsHiK"
      }
    },
    {
      "cell_type": "markdown",
      "source": [
        "**Numbers**"
      ],
      "metadata": {
        "id": "ZUdgAn3SFv27"
      }
    },
    {
      "cell_type": "markdown",
      "source": [
        "\n",
        "Clearly sometimes you will want to manipuate your data. You can do simple things like add, subtract, multipy, divide, or even find the remainder."
      ],
      "metadata": {
        "id": "a2cpGTwiJM5h"
      }
    },
    {
      "cell_type": "code",
      "execution_count": null,
      "metadata": {
        "colab": {
          "base_uri": "https://localhost:8080/"
        },
        "id": "CJO1NunDfT14",
        "outputId": "23c66b2a-dfa6-4c24-a71d-941f92fa0c07"
      },
      "outputs": [
        {
          "output_type": "execute_result",
          "data": {
            "text/plain": [
              "4"
            ]
          },
          "metadata": {},
          "execution_count": 2
        }
      ],
      "source": [
        "2+2"
      ]
    },
    {
      "cell_type": "code",
      "source": [
        "3*2"
      ],
      "metadata": {
        "colab": {
          "base_uri": "https://localhost:8080/"
        },
        "id": "0pwNUr6GEpfH",
        "outputId": "7fe7b0d9-5115-4927-bf77-18f59dca455d"
      },
      "execution_count": null,
      "outputs": [
        {
          "output_type": "execute_result",
          "data": {
            "text/plain": [
              "6"
            ]
          },
          "metadata": {},
          "execution_count": 16
        }
      ]
    },
    {
      "cell_type": "code",
      "source": [
        "10/5"
      ],
      "metadata": {
        "colab": {
          "base_uri": "https://localhost:8080/"
        },
        "id": "42r93TjiEtQs",
        "outputId": "6855e7d9-3339-4a54-8233-ae5b6d740414"
      },
      "execution_count": null,
      "outputs": [
        {
          "output_type": "execute_result",
          "data": {
            "text/plain": [
              "2.0"
            ]
          },
          "metadata": {},
          "execution_count": 17
        }
      ]
    },
    {
      "cell_type": "code",
      "source": [
        "11%2"
      ],
      "metadata": {
        "colab": {
          "base_uri": "https://localhost:8080/"
        },
        "id": "IJAzvpUGEl8z",
        "outputId": "42d35788-0b80-4044-ea16-ce1cb200bee1"
      },
      "execution_count": null,
      "outputs": [
        {
          "output_type": "execute_result",
          "data": {
            "text/plain": [
              "1"
            ]
          },
          "metadata": {},
          "execution_count": 15
        }
      ]
    },
    {
      "cell_type": "code",
      "source": [],
      "metadata": {
        "id": "Na8Nwm3DFWfp"
      },
      "execution_count": null,
      "outputs": []
    },
    {
      "cell_type": "markdown",
      "source": [
        "**integers vs. float numbers**"
      ],
      "metadata": {
        "id": "J8WsfYGsFXN8"
      }
    },
    {
      "cell_type": "code",
      "source": [
        "int = 1\n",
        "float = 3.145678952222\n",
        "\n",
        "float"
      ],
      "metadata": {
        "colab": {
          "base_uri": "https://localhost:8080/"
        },
        "id": "twqRDj4-Ffj3",
        "outputId": "9d62b763-3bd0-4cea-d268-56f903e70dd8"
      },
      "execution_count": null,
      "outputs": [
        {
          "output_type": "execute_result",
          "data": {
            "text/plain": [
              "3.145678952222"
            ]
          },
          "metadata": {},
          "execution_count": 19
        }
      ]
    },
    {
      "cell_type": "code",
      "source": [
        "round(float,3)"
      ],
      "metadata": {
        "colab": {
          "base_uri": "https://localhost:8080/"
        },
        "id": "muB2QTuoFo9v",
        "outputId": "10b32d29-6b89-4da2-ed07-ffea1722c89c"
      },
      "execution_count": null,
      "outputs": [
        {
          "output_type": "execute_result",
          "data": {
            "text/plain": [
              "3.146"
            ]
          },
          "metadata": {},
          "execution_count": 20
        }
      ]
    },
    {
      "cell_type": "markdown",
      "source": [
        "**Strings**\n",
        "\n",
        "**Hello World!**"
      ],
      "metadata": {
        "id": "frrtbGdtfbaU"
      }
    },
    {
      "cell_type": "markdown",
      "source": [
        "Strings\n",
        "Strings are used ALL THE TIME in Python. Strings are enclosed in quotes. Python treats single quotes the same as double quotes (but be consistent).\n",
        "\n",
        "Double quotes allow you to enclose single quotes.\n",
        "\n",
        "There are also triple double quotes \"\"\"...\"\"\" They allow you to write strings that span multiple lines.\n",
        "\n",
        "There are many, many built-in functionalities that you will eventually learn. It is impossible to cover (and remember) them all in one sitting.\n",
        "\n"
      ],
      "metadata": {
        "id": "H-Ae-N6PJDuJ"
      }
    },
    {
      "cell_type": "code",
      "source": [
        "print (\"Hello World!\")"
      ],
      "metadata": {
        "colab": {
          "base_uri": "https://localhost:8080/"
        },
        "id": "9Jxse6vVfhFs",
        "outputId": "9755612c-6a80-4aec-8481-9aa777340210"
      },
      "execution_count": null,
      "outputs": [
        {
          "output_type": "stream",
          "name": "stdout",
          "text": [
            "Hello World!\n"
          ]
        }
      ]
    },
    {
      "cell_type": "code",
      "source": [
        "my_txt = \"classroom\"\n",
        "my_txt"
      ],
      "metadata": {
        "colab": {
          "base_uri": "https://localhost:8080/",
          "height": 35
        },
        "id": "xEOC3kdiGSqy",
        "outputId": "ee5ba359-b454-4fa4-9dc9-526ef84d6d8b"
      },
      "execution_count": null,
      "outputs": [
        {
          "output_type": "execute_result",
          "data": {
            "text/plain": [
              "'classroom'"
            ],
            "application/vnd.google.colaboratory.intrinsic+json": {
              "type": "string"
            }
          },
          "metadata": {},
          "execution_count": 21
        }
      ]
    },
    {
      "cell_type": "markdown",
      "source": [
        "**Accessing parts of a String**"
      ],
      "metadata": {
        "id": "aZn7GK8FJtsX"
      }
    },
    {
      "cell_type": "markdown",
      "source": [
        "You can access an entire string variable, or just parts of it. Square brackets are used to specify the index of the data you want. (Indices always start at 0.)"
      ],
      "metadata": {
        "id": "swyQSaNNJzMg"
      }
    },
    {
      "cell_type": "code",
      "source": [
        "#accessing each character by index\n",
        "my_txt[0]"
      ],
      "metadata": {
        "colab": {
          "base_uri": "https://localhost:8080/",
          "height": 35
        },
        "id": "bbZ10o6FGbxz",
        "outputId": "9c70b775-743c-462b-fdad-127bf202bedc"
      },
      "execution_count": null,
      "outputs": [
        {
          "output_type": "execute_result",
          "data": {
            "text/plain": [
              "'c'"
            ],
            "application/vnd.google.colaboratory.intrinsic+json": {
              "type": "string"
            }
          },
          "metadata": {},
          "execution_count": 22
        }
      ]
    },
    {
      "cell_type": "code",
      "source": [
        "my_txt[5:9]"
      ],
      "metadata": {
        "colab": {
          "base_uri": "https://localhost:8080/",
          "height": 35
        },
        "id": "wX-tyyX_Gpi2",
        "outputId": "d76d40be-cb6f-4822-8621-143c018890c8"
      },
      "execution_count": null,
      "outputs": [
        {
          "output_type": "execute_result",
          "data": {
            "text/plain": [
              "'room'"
            ],
            "application/vnd.google.colaboratory.intrinsic+json": {
              "type": "string"
            }
          },
          "metadata": {},
          "execution_count": 25
        }
      ]
    },
    {
      "cell_type": "code",
      "source": [
        "my_txt[5:]"
      ],
      "metadata": {
        "colab": {
          "base_uri": "https://localhost:8080/",
          "height": 35
        },
        "id": "Qkyn7qY9G1bG",
        "outputId": "92a55de5-9cd2-43dd-fb62-01897cdb51d7"
      },
      "execution_count": null,
      "outputs": [
        {
          "output_type": "execute_result",
          "data": {
            "text/plain": [
              "'room'"
            ],
            "application/vnd.google.colaboratory.intrinsic+json": {
              "type": "string"
            }
          },
          "metadata": {},
          "execution_count": 26
        }
      ]
    },
    {
      "cell_type": "code",
      "source": [
        "my_txt[:5]"
      ],
      "metadata": {
        "colab": {
          "base_uri": "https://localhost:8080/",
          "height": 35
        },
        "id": "jOLyZMObG6UI",
        "outputId": "bb3c26b9-6a61-41bc-bc21-51c29eb755a3"
      },
      "execution_count": null,
      "outputs": [
        {
          "output_type": "execute_result",
          "data": {
            "text/plain": [
              "'class'"
            ],
            "application/vnd.google.colaboratory.intrinsic+json": {
              "type": "string"
            }
          },
          "metadata": {},
          "execution_count": 28
        }
      ]
    },
    {
      "cell_type": "code",
      "source": [
        "address = '''San Diego\n",
        "CA\n",
        "USA'''\n",
        "print(address)"
      ],
      "metadata": {
        "colab": {
          "base_uri": "https://localhost:8080/"
        },
        "id": "tfTxRVheG921",
        "outputId": "988f9818-1966-4fbb-aba9-d450010c9f87"
      },
      "execution_count": null,
      "outputs": [
        {
          "output_type": "stream",
          "name": "stdout",
          "text": [
            "San Diego\n",
            "CA\n",
            "USA\n"
          ]
        }
      ]
    },
    {
      "cell_type": "markdown",
      "source": [
        "**String Operators**"
      ],
      "metadata": {
        "id": "H2T7IGSNKZFn"
      }
    },
    {
      "cell_type": "markdown",
      "source": [
        "String operators are special bits of code that ONLY WORK ON STRINGS. So while a \"+\" will add two numbers, it will concatenate Strings instead of adding them."
      ],
      "metadata": {
        "id": "KmDbEP_LKT_R"
      }
    },
    {
      "cell_type": "code",
      "source": [
        "b = \"Fall\"+\"2023\""
      ],
      "metadata": {
        "id": "lvfcbJMTr_b4"
      },
      "execution_count": null,
      "outputs": []
    },
    {
      "cell_type": "code",
      "source": [
        "b"
      ],
      "metadata": {
        "colab": {
          "base_uri": "https://localhost:8080/",
          "height": 35
        },
        "id": "s66Zwkw4sEj-",
        "outputId": "671c0c25-3f14-4536-c550-6ddb7a498636"
      },
      "execution_count": null,
      "outputs": [
        {
          "output_type": "execute_result",
          "data": {
            "text/plain": [
              "'Fall2023'"
            ],
            "application/vnd.google.colaboratory.intrinsic+json": {
              "type": "string"
            }
          },
          "metadata": {},
          "execution_count": 8
        }
      ]
    },
    {
      "cell_type": "markdown",
      "source": [
        "**Variables**"
      ],
      "metadata": {
        "id": "XNxPvjCSBVHl"
      }
    },
    {
      "cell_type": "markdown",
      "source": [
        "In order to save data for later use you create a variable. Luckily in Python \"creating\" a variables is as simple as coming up with a name and assigning a value."
      ],
      "metadata": {
        "id": "kXCFKxu6Jbgq"
      }
    },
    {
      "cell_type": "code",
      "source": [
        "a = 3**2"
      ],
      "metadata": {
        "id": "CkDrxZWbnlki"
      },
      "execution_count": null,
      "outputs": []
    },
    {
      "cell_type": "code",
      "source": [
        "a"
      ],
      "metadata": {
        "colab": {
          "base_uri": "https://localhost:8080/"
        },
        "id": "AuhBTuA4r-9e",
        "outputId": "802c50e6-463e-42e0-9ad2-60c3e4aee6b1"
      },
      "execution_count": null,
      "outputs": [
        {
          "output_type": "execute_result",
          "data": {
            "text/plain": [
              "9"
            ]
          },
          "metadata": {},
          "execution_count": 6
        }
      ]
    },
    {
      "cell_type": "markdown",
      "source": [
        "*practice*"
      ],
      "metadata": {
        "id": "bTqnn0UpB5a3"
      }
    },
    {
      "cell_type": "code",
      "source": [
        "housing = 1500\n",
        "groceries = 250\n",
        "restaurants = 300\n",
        "coffee = 45\n",
        "print (housing)"
      ],
      "metadata": {
        "colab": {
          "base_uri": "https://localhost:8080/"
        },
        "id": "3xhvp4rFsKZK",
        "outputId": "dec2f691-0f6f-4717-fec4-a670fbf7b27e"
      },
      "execution_count": null,
      "outputs": [
        {
          "output_type": "stream",
          "name": "stdout",
          "text": [
            "1500\n"
          ]
        }
      ]
    },
    {
      "cell_type": "code",
      "source": [
        "monthly_expenses = housing+groceries+restaurants+coffee\n",
        "print(monthly_expenses)"
      ],
      "metadata": {
        "colab": {
          "base_uri": "https://localhost:8080/"
        },
        "id": "5lvnz-VpB1Ja",
        "outputId": "de1fa6a0-142c-440a-925d-2812f220929b"
      },
      "execution_count": null,
      "outputs": [
        {
          "output_type": "stream",
          "name": "stdout",
          "text": [
            "2095\n"
          ]
        }
      ]
    },
    {
      "cell_type": "code",
      "source": [
        "item1 = \"housing\"\n",
        "item2 = \"groceries\"\n",
        "item3 = \"restaurants\"\n",
        "item4 = \"coffee\"\n",
        "print(\"Monthly expense items include:\",item1,item2,item3,item4)"
      ],
      "metadata": {
        "colab": {
          "base_uri": "https://localhost:8080/"
        },
        "id": "ZkID3DtLCn_2",
        "outputId": "d645c82f-1be3-459b-b9a4-2ca6a8971eab"
      },
      "execution_count": null,
      "outputs": [
        {
          "output_type": "stream",
          "name": "stdout",
          "text": [
            "Monthly expense items include: housing groceries restaurants coffee\n"
          ]
        }
      ]
    },
    {
      "cell_type": "markdown",
      "source": [
        "**Lists**"
      ],
      "metadata": {
        "id": "zASJzWpgP6Ih"
      }
    },
    {
      "cell_type": "code",
      "source": [
        "monthly_expenses = [\"housing\",\"groceries\",\"restaurants\",\"coffee\"]\n",
        "monthly_expenses"
      ],
      "metadata": {
        "colab": {
          "base_uri": "https://localhost:8080/"
        },
        "id": "PTPi5-DiQHWj",
        "outputId": "3637346e-62c8-4e40-e39b-f30d2e43dae5"
      },
      "execution_count": null,
      "outputs": [
        {
          "output_type": "execute_result",
          "data": {
            "text/plain": [
              "['housing', 'groceries', 'restaurants', 'coffee']"
            ]
          },
          "metadata": {},
          "execution_count": 5
        }
      ]
    },
    {
      "cell_type": "code",
      "source": [
        "monthly_expenses[0]"
      ],
      "metadata": {
        "colab": {
          "base_uri": "https://localhost:8080/",
          "height": 35
        },
        "id": "pqWTUzpCTQzJ",
        "outputId": "0118626d-7f6a-4fd6-cdb2-f58e08e75610"
      },
      "execution_count": null,
      "outputs": [
        {
          "output_type": "execute_result",
          "data": {
            "text/plain": [
              "'housing'"
            ],
            "application/vnd.google.colaboratory.intrinsic+json": {
              "type": "string"
            }
          },
          "metadata": {},
          "execution_count": 34
        }
      ]
    },
    {
      "cell_type": "code",
      "source": [
        "monthly_expenses[0:2]"
      ],
      "metadata": {
        "colab": {
          "base_uri": "https://localhost:8080/"
        },
        "id": "dAYAHj5GTY_q",
        "outputId": "d4a81556-a894-4ffb-e92a-9bc7883c0cfe"
      },
      "execution_count": null,
      "outputs": [
        {
          "output_type": "execute_result",
          "data": {
            "text/plain": [
              "['housing', 'groceries']"
            ]
          },
          "metadata": {},
          "execution_count": 35
        }
      ]
    },
    {
      "cell_type": "code",
      "source": [
        "monthly_expenses[0] = \"rent\""
      ],
      "metadata": {
        "id": "MqlzYp9TTguN"
      },
      "execution_count": null,
      "outputs": []
    },
    {
      "cell_type": "code",
      "source": [
        "monthly_expenses"
      ],
      "metadata": {
        "colab": {
          "base_uri": "https://localhost:8080/"
        },
        "id": "VaplqJc0Tkkw",
        "outputId": "7d4e22e0-f0db-4781-8562-921ff7a69b64"
      },
      "execution_count": null,
      "outputs": [
        {
          "output_type": "execute_result",
          "data": {
            "text/plain": [
              "['rent', 'groceries', 'restaurants', 'coffee']"
            ]
          },
          "metadata": {},
          "execution_count": 38
        }
      ]
    },
    {
      "cell_type": "code",
      "source": [
        "monthly_expenses[-1]"
      ],
      "metadata": {
        "colab": {
          "base_uri": "https://localhost:8080/",
          "height": 35
        },
        "id": "f4tOIXHzTr1s",
        "outputId": "768d0100-6920-46e7-e29d-b3bdb2fbe689"
      },
      "execution_count": null,
      "outputs": [
        {
          "output_type": "execute_result",
          "data": {
            "text/plain": [
              "'coffee'"
            ],
            "application/vnd.google.colaboratory.intrinsic+json": {
              "type": "string"
            }
          },
          "metadata": {},
          "execution_count": 39
        }
      ]
    },
    {
      "cell_type": "code",
      "source": [
        "school = [\"Book\", \"laptop\",9,'pens']\n",
        "school"
      ],
      "metadata": {
        "colab": {
          "base_uri": "https://localhost:8080/"
        },
        "id": "T77AYdZoTmV_",
        "outputId": "f90514a2-062c-4ee4-833c-28b7ce10a068"
      },
      "execution_count": null,
      "outputs": [
        {
          "output_type": "execute_result",
          "data": {
            "text/plain": [
              "['Book', 'laptop', 9, 'coffee']"
            ]
          },
          "metadata": {},
          "execution_count": 1
        }
      ]
    },
    {
      "cell_type": "code",
      "source": [
        "school.append(\"shoes\")\n",
        "school"
      ],
      "metadata": {
        "colab": {
          "base_uri": "https://localhost:8080/"
        },
        "id": "ZvlBviSMWoQq",
        "outputId": "e509ed36-73b4-4ce6-dd9d-73e02e39d74a"
      },
      "execution_count": null,
      "outputs": [
        {
          "output_type": "execute_result",
          "data": {
            "text/plain": [
              "['Book', 'laptop', 9, 'coffee', 'shoes']"
            ]
          },
          "metadata": {},
          "execution_count": 2
        }
      ]
    },
    {
      "cell_type": "code",
      "source": [
        "school.insert(2,\"shoes\")\n",
        "school"
      ],
      "metadata": {
        "colab": {
          "base_uri": "https://localhost:8080/"
        },
        "id": "TVMGEStYWwhi",
        "outputId": "409a43a9-3e74-409f-e609-d0fe80902aad"
      },
      "execution_count": null,
      "outputs": [
        {
          "output_type": "execute_result",
          "data": {
            "text/plain": [
              "['Book', 'laptop', 'shoes', 9, 'coffee', 'shoes']"
            ]
          },
          "metadata": {},
          "execution_count": 3
        }
      ]
    },
    {
      "cell_type": "code",
      "source": [
        "#adding lists\n",
        "school+monthly_expenses"
      ],
      "metadata": {
        "colab": {
          "base_uri": "https://localhost:8080/"
        },
        "id": "3csNUNTsXCGj",
        "outputId": "2826d86a-7fd3-43a8-9160-76b5c65f940f"
      },
      "execution_count": null,
      "outputs": [
        {
          "output_type": "execute_result",
          "data": {
            "text/plain": [
              "['Book',\n",
              " 'laptop',\n",
              " 'shoes',\n",
              " 9,\n",
              " 'coffee',\n",
              " 'shoes',\n",
              " 'housing',\n",
              " 'groceries',\n",
              " 'restaurants',\n",
              " 'coffee']"
            ]
          },
          "metadata": {},
          "execution_count": 7
        }
      ]
    },
    {
      "cell_type": "code",
      "source": [
        "\"coffee\" in school"
      ],
      "metadata": {
        "colab": {
          "base_uri": "https://localhost:8080/"
        },
        "id": "tEQy5aj7YCP2",
        "outputId": "3aeb2bb3-90fc-4981-ee74-448c15104884"
      },
      "execution_count": null,
      "outputs": [
        {
          "output_type": "execute_result",
          "data": {
            "text/plain": [
              "True"
            ]
          },
          "metadata": {},
          "execution_count": 8
        }
      ]
    },
    {
      "cell_type": "code",
      "source": [
        "len(school)"
      ],
      "metadata": {
        "colab": {
          "base_uri": "https://localhost:8080/"
        },
        "id": "w7Yup8sBYG19",
        "outputId": "18b23cb2-17db-40f6-bed7-53d24ed1fb91"
      },
      "execution_count": null,
      "outputs": [
        {
          "output_type": "execute_result",
          "data": {
            "text/plain": [
              "6"
            ]
          },
          "metadata": {},
          "execution_count": 9
        }
      ]
    },
    {
      "cell_type": "markdown",
      "source": [
        "**Conditions**"
      ],
      "metadata": {
        "id": "J9ACBV8NQAj8"
      }
    },
    {
      "cell_type": "markdown",
      "source": [
        "Write a program that asks user to input a number. Then, if the number is above 100, the program tells if the number is odd or even."
      ],
      "metadata": {
        "id": "W8DewXHQZoIv"
      }
    },
    {
      "cell_type": "code",
      "source": [
        "num = input (\"Give me a number: \")"
      ],
      "metadata": {
        "colab": {
          "base_uri": "https://localhost:8080/"
        },
        "id": "bt7fKLzeZ8RH",
        "outputId": "7472ada6-5ca3-4139-f4fe-cf5a72ea17bc"
      },
      "execution_count": null,
      "outputs": [
        {
          "name": "stdout",
          "output_type": "stream",
          "text": [
            "Give me a number: 78\n"
          ]
        }
      ]
    },
    {
      "cell_type": "code",
      "source": [
        "num = int(num)\n",
        "if num>100:\n",
        "  print(\"Your number is above 100.\")\n",
        "  if num%2==0:\n",
        "    print(\"Your number is even.\")\n",
        "  else:\n",
        "    print(\"Your number is odd.\")\n",
        "else:\n",
        "  print(\"Your number is below 100. Try again...\")\n",
        "  num = input (\"Give me a number: \")\n",
        "  num = int(num)\n",
        "  if num%2!=0 or num<100:\n",
        "    print(\"Program failed.\")\n",
        "  else:\n",
        "    print(\"Success!\")\n",
        "\n"
      ],
      "metadata": {
        "colab": {
          "base_uri": "https://localhost:8080/"
        },
        "id": "o8u_htUqQDaC",
        "outputId": "6fb9c710-ed5c-4c6f-ad1b-d3b7b59f9866"
      },
      "execution_count": null,
      "outputs": [
        {
          "output_type": "stream",
          "name": "stdout",
          "text": [
            "Your number is below 100. Try again...\n",
            "Give me a number: 106\n",
            "Success!\n"
          ]
        }
      ]
    },
    {
      "cell_type": "code",
      "source": [
        "#Exercise 1: Check if a number is positive, negative, or zero.\n",
        "\n",
        "#Exercise 2: Determine if a year is a leap year or not.\n",
        "\n",
        "#Exercise 3: Check if a number is even or odd.\n",
        "\n",
        "#Exercise 4: Determine the grade based on a student's score.\n",
        "\n",
        "#Exercise 5: Check if a given string is a palindrome.\n",
        "\n"
      ],
      "metadata": {
        "id": "tDPl7YzhVrqZ"
      },
      "execution_count": null,
      "outputs": []
    },
    {
      "cell_type": "code",
      "source": [
        "#Exercise 1\n",
        "num = float(input(\"Enter a number: \"))\n",
        "if num > 0:\n",
        "    print(\"Positive\")\n",
        "elif num < 0:\n",
        "    print(\"Negative\")\n",
        "else:\n",
        "    print(\"Zero\")\n"
      ],
      "metadata": {
        "colab": {
          "base_uri": "https://localhost:8080/"
        },
        "id": "lhVmkV_zWE9h",
        "outputId": "5d2bf933-1a59-4f7d-88fe-400cc60b0c7c"
      },
      "execution_count": null,
      "outputs": [
        {
          "output_type": "stream",
          "name": "stdout",
          "text": [
            "Enter a number: 11\n",
            "Positive\n"
          ]
        }
      ]
    },
    {
      "cell_type": "code",
      "source": [
        "#Exercise 2\n",
        "year = int(input(\"Enter a year: \"))\n",
        "if (year % 4 == 0 and year % 100 != 0) or year % 400 == 0:\n",
        "    print(year, \"is a leap year\")\n",
        "else:\n",
        "    print(year, \"is not a leap year\")"
      ],
      "metadata": {
        "id": "KgMcbeayWMyF"
      },
      "execution_count": null,
      "outputs": []
    },
    {
      "cell_type": "code",
      "source": [
        "#Exercise 3\n",
        "num = int(input(\"Enter a number: \"))\n",
        "if num % 2 == 0:\n",
        "    print(\"Even\")\n",
        "else:\n",
        "    print(\"Odd\")"
      ],
      "metadata": {
        "id": "qbNepvD5WVcS"
      },
      "execution_count": null,
      "outputs": []
    },
    {
      "cell_type": "code",
      "source": [
        "#Exercise 4\n",
        "score = int(input(\"Enter the student's score: \"))\n",
        "if score >= 90:\n",
        "    print(\"Grade: A\")\n",
        "elif score >= 80:\n",
        "    print(\"Grade: B\")\n",
        "elif score >= 70:\n",
        "    print(\"Grade: C\")\n",
        "elif score >= 60:\n",
        "    print(\"Grade: D\")\n",
        "else:\n",
        "    print(\"Grade: F\")"
      ],
      "metadata": {
        "id": "VJU-5a4xWYsC"
      },
      "execution_count": null,
      "outputs": []
    },
    {
      "cell_type": "code",
      "source": [
        "#Exercise 5\n",
        "string = input(\"Enter a string: \")\n",
        "if string == string[::-1]:\n",
        "    print(\"Palindrome\")\n",
        "else:\n",
        "    print(\"Not a palindrome\")"
      ],
      "metadata": {
        "id": "3kim3A2SWcRJ"
      },
      "execution_count": null,
      "outputs": []
    },
    {
      "cell_type": "markdown",
      "source": [
        "**Iterations**"
      ],
      "metadata": {
        "id": "cHXRb8BvQEg-"
      }
    },
    {
      "cell_type": "code",
      "source": [
        "#Practice\n",
        "#print 40 to 50\n",
        "\n",
        "for i in range(40,51):\n",
        "  print(i)"
      ],
      "metadata": {
        "colab": {
          "base_uri": "https://localhost:8080/"
        },
        "id": "56Y9Jnmh5iR3",
        "outputId": "ff1ee9fc-87ff-43c5-daf0-a2a224a0a60c"
      },
      "execution_count": null,
      "outputs": [
        {
          "output_type": "stream",
          "name": "stdout",
          "text": [
            "40\n",
            "41\n",
            "42\n",
            "43\n",
            "44\n",
            "45\n",
            "46\n",
            "47\n",
            "48\n",
            "49\n",
            "50\n"
          ]
        }
      ]
    },
    {
      "cell_type": "code",
      "source": [
        "#Manual operation\n",
        "numbers = [1500, 25, 86, 3314]\n",
        "total = numbers[0] + numbers[1] + numbers[2] +numbers[3]\n",
        "total"
      ],
      "metadata": {
        "id": "tI5Vv4UyQRpm",
        "colab": {
          "base_uri": "https://localhost:8080/"
        },
        "outputId": "0ca6ad1f-355e-48f3-faf1-bdd3a8cf1430"
      },
      "execution_count": null,
      "outputs": [
        {
          "output_type": "execute_result",
          "data": {
            "text/plain": [
              "4925"
            ]
          },
          "metadata": {},
          "execution_count": 8
        }
      ]
    },
    {
      "cell_type": "code",
      "source": [
        "#Automatic operation\n",
        "total = 0\n",
        "for num in numbers:\n",
        "  total += num\n",
        "\n",
        "total"
      ],
      "metadata": {
        "colab": {
          "base_uri": "https://localhost:8080/"
        },
        "id": "lOgxSL8A4AYx",
        "outputId": "ef9c6859-571e-4ab4-9e96-34056ec47e82"
      },
      "execution_count": null,
      "outputs": [
        {
          "output_type": "execute_result",
          "data": {
            "text/plain": [
              "4925"
            ]
          },
          "metadata": {},
          "execution_count": 49
        }
      ]
    },
    {
      "cell_type": "code",
      "source": [
        "#Exercise 1:\n",
        "#In the toal number example, print the index of each number and then print the annual total\n",
        "total = 0\n",
        "for i in range(len(numbers)):\n",
        "  print(\"Index: \",i+1,\"Number: \", numbers[i])\n",
        "  total = total+numbers[i]\n",
        "\n",
        "print(\"Total is: \", total)\n"
      ],
      "metadata": {
        "colab": {
          "base_uri": "https://localhost:8080/"
        },
        "id": "CYbNsUxt6Z20",
        "outputId": "3fa168dd-8a39-4507-f46a-4d43fb726dec"
      },
      "execution_count": null,
      "outputs": [
        {
          "output_type": "stream",
          "name": "stdout",
          "text": [
            "Index:  1 Number:  1500\n",
            "Index:  2 Number:  25\n",
            "Index:  3 Number:  86\n",
            "Index:  4 Number:  3314\n",
            "Total is:  4925\n"
          ]
        }
      ]
    },
    {
      "cell_type": "code",
      "source": [
        "fruits = [\"apples\", \"oranges\", 'strawberries', 3]\n",
        "drinks = [\"tea\", \"coffee\", 2, 'water']\n",
        "\n",
        "shopping = [fruits, drinks]\n",
        "\n",
        "for  i in range(len(shopping)):\n",
        "    print(i, shopping[i])\n",
        "\n"
      ],
      "metadata": {
        "id": "TF7fbpcXP8w5",
        "colab": {
          "base_uri": "https://localhost:8080/"
        },
        "outputId": "c5e25ff4-3a69-46fe-e3c2-9249cc491446"
      },
      "execution_count": null,
      "outputs": [
        {
          "output_type": "stream",
          "name": "stdout",
          "text": [
            "0 ['apples', 'oranges', 'strawberries', 3]\n",
            "1 ['tea', 'coffee', 2, 'water']\n"
          ]
        }
      ]
    },
    {
      "cell_type": "code",
      "source": [
        "#stop the for loop when the wanted item is found using \"break\"\n",
        "main_room = \"classroom\"\n",
        "all_rooms = [\"offices\", \"hallways\", \"staircases\", \"classroom\", \"library\"]\n",
        "for room in all_rooms:\n",
        "  if room == main_room:\n",
        "    print (\"I found the main room: \",room)\n",
        "    break\n",
        "  else:\n",
        "    print(\"The main room is not \", room)"
      ],
      "metadata": {
        "colab": {
          "base_uri": "https://localhost:8080/"
        },
        "id": "hUZZANPJ78Am",
        "outputId": "c4ac65d3-fc5c-44db-b9bf-e8166ea70118"
      },
      "execution_count": null,
      "outputs": [
        {
          "output_type": "stream",
          "name": "stdout",
          "text": [
            "The main room is not  offices\n",
            "The main room is not  hallways\n",
            "The main room is not  staircases\n",
            "I found the main room:  classroom\n"
          ]
        }
      ]
    },
    {
      "cell_type": "code",
      "source": [
        "#skip a step in the loop using \"continue\"\n",
        "#print square of numbers between 1 to 5 EXCEPT even numbers\n",
        "\n",
        "for i in range(1,6):\n",
        "  if i%2 == 0:\n",
        "    continue\n",
        "  else:\n",
        "    print(i*i)"
      ],
      "metadata": {
        "colab": {
          "base_uri": "https://localhost:8080/"
        },
        "id": "MzMG-0dIDLJF",
        "outputId": "072d8dc8-b635-4c28-847a-196d78ad3d06"
      },
      "execution_count": null,
      "outputs": [
        {
          "output_type": "stream",
          "name": "stdout",
          "text": [
            "1\n",
            "9\n",
            "25\n"
          ]
        }
      ]
    },
    {
      "cell_type": "code",
      "source": [
        "#Exercise 2: Print even numbers from 1 to 20 using a while loop.\n",
        "num = 1\n",
        "while num <= 20:\n",
        "    if num % 2 == 0:\n",
        "        print(num)\n",
        "    num += 1\n"
      ],
      "metadata": {
        "colab": {
          "base_uri": "https://localhost:8080/"
        },
        "id": "xJ7Thde9EK47",
        "outputId": "ba461db1-85ec-447e-abec-024832dddf06"
      },
      "execution_count": null,
      "outputs": [
        {
          "output_type": "stream",
          "name": "stdout",
          "text": [
            "2\n",
            "4\n",
            "6\n",
            "8\n",
            "10\n",
            "12\n",
            "14\n",
            "16\n",
            "18\n",
            "20\n"
          ]
        }
      ]
    },
    {
      "cell_type": "code",
      "source": [
        "#Exercise 3: Print a multiplication table for a given number using a for loop.\n",
        "num = int(input(\"Enter a number:\"))\n",
        "for i in range (1,11):\n",
        "  print(num,\"x\",i, \"=\",num*i)\n"
      ],
      "metadata": {
        "colab": {
          "base_uri": "https://localhost:8080/"
        },
        "id": "2DQQuF2AEqbY",
        "outputId": "a430ad74-1a25-464a-99ce-bbad2a3bcaf0"
      },
      "execution_count": null,
      "outputs": [
        {
          "output_type": "stream",
          "name": "stdout",
          "text": [
            "Enter a number:4\n",
            "4 x 1 = 4\n",
            "4 x 2 = 8\n",
            "4 x 3 = 12\n",
            "4 x 4 = 16\n",
            "4 x 5 = 20\n",
            "4 x 6 = 24\n",
            "4 x 7 = 28\n",
            "4 x 8 = 32\n",
            "4 x 9 = 36\n",
            "4 x 10 = 40\n"
          ]
        }
      ]
    },
    {
      "cell_type": "code",
      "source": [
        "#Exercise 4: Reverse a given string using a while loop.\n",
        "string = (input(\"Enter a word:\"))\n",
        "reversed_string = \"\"\n",
        "index = len(string)-1\n",
        "\n",
        "while index>=0:\n",
        "  reversed_string += string[index]\n",
        "  index -= 1\n",
        "print(reversed_string)\n"
      ],
      "metadata": {
        "colab": {
          "base_uri": "https://localhost:8080/"
        },
        "id": "rCo9EuumFmYZ",
        "outputId": "f5a52af8-cc69-412d-a301-9aeec9a2147e"
      },
      "execution_count": null,
      "outputs": [
        {
          "output_type": "stream",
          "name": "stdout",
          "text": [
            "Enter a word:word\n",
            "drow\n"
          ]
        }
      ]
    },
    {
      "cell_type": "code",
      "source": [
        "#Exercise 5: Print the Fibonacci series up to a given number using a while loop.\n",
        "limit = int(input(\"Enter a number: \"))\n",
        "a, b = 0,1\n",
        "c=a\n",
        "while b < limit:\n",
        "  c=a\n",
        "  a=b\n",
        "  b=a+c\n",
        "\n",
        "  print(a)\n",
        "\n",
        "\n"
      ],
      "metadata": {
        "colab": {
          "base_uri": "https://localhost:8080/"
        },
        "id": "XHs3rko5Hv-4",
        "outputId": "ea207269-d612-4602-acbd-6bee08ded2e3"
      },
      "execution_count": null,
      "outputs": [
        {
          "output_type": "stream",
          "name": "stdout",
          "text": [
            "Enter a number: 15\n",
            "1\n",
            "1\n",
            "2\n",
            "3\n",
            "5\n",
            "8\n",
            "13\n"
          ]
        }
      ]
    },
    {
      "cell_type": "code",
      "source": [
        "#print without a newline\n",
        "limit = int(input(\"Enter a number: \"))\n",
        "a, b = 0, 1\n",
        "print(\"Fibonacci series:\")\n",
        "while a <= limit:\n",
        "    print(a, end=\" \")\n",
        "    a, b = b, a + b"
      ],
      "metadata": {
        "colab": {
          "base_uri": "https://localhost:8080/"
        },
        "id": "HiqikR8OMKMK",
        "outputId": "52f3ba3f-ed81-47fb-d827-ffc10977a55c"
      },
      "execution_count": null,
      "outputs": [
        {
          "output_type": "stream",
          "name": "stdout",
          "text": [
            "Enter a number: 15\n",
            "Fibonacci series:\n",
            "0 1 1 2 3 5 8 13 "
          ]
        }
      ]
    },
    {
      "cell_type": "markdown",
      "source": [
        "# Part Three"
      ],
      "metadata": {
        "id": "2cXA5ATkQVRG"
      }
    },
    {
      "cell_type": "markdown",
      "source": [
        "**Class 3**"
      ],
      "metadata": {
        "id": "554RNEYxQVRL"
      }
    },
    {
      "cell_type": "markdown",
      "source": [
        "**Collections**"
      ],
      "metadata": {
        "id": "2MMYIErmQVRL"
      }
    },
    {
      "cell_type": "markdown",
      "source": [
        "Dictionaries"
      ],
      "metadata": {
        "id": "reSssBiycE7I"
      }
    },
    {
      "cell_type": "code",
      "source": [
        "#Dictionaries\n",
        "# Exampe 1: Create a dictionary of person details\n",
        "person = {\n",
        "    'name': 'Alice',\n",
        "    'age': 25,\n",
        "    'city': 'New York'\n",
        "}"
      ],
      "metadata": {
        "id": "-PJFY56XQa0v"
      },
      "execution_count": null,
      "outputs": []
    },
    {
      "cell_type": "markdown",
      "source": [
        "In this example, we have created a dictionary called person. It contains three key-value pairs:\n",
        "\n",
        "The key 'name' has the value 'Alice'.\n",
        "The key 'age' has the value 25.\n",
        "The key 'city' has the value 'New York'."
      ],
      "metadata": {
        "id": "wIomrI-jY0fI"
      }
    },
    {
      "cell_type": "code",
      "source": [
        "# Exampe 2: Accessing Dictionary Values\n",
        "# Access values by key\n",
        "print(person['name'])  # Output: Alice\n",
        "print(person['age'])   # Output: 25\n",
        "print(person['city'])  # Output: New York"
      ],
      "metadata": {
        "id": "cLZfH_HPY1KU"
      },
      "execution_count": null,
      "outputs": []
    },
    {
      "cell_type": "markdown",
      "source": [
        "You can access dictionary values by providing the corresponding key in square brackets. For example, person['name'] returns the value 'Alice'."
      ],
      "metadata": {
        "id": "FyFk2qtfY_W4"
      }
    },
    {
      "cell_type": "code",
      "source": [
        "# Exampe 3: Modifying Dictionary Values\n",
        "\n",
        "# Update the age\n",
        "person['age'] = 26\n",
        "\n",
        "# Add a new key-value pair\n",
        "person['occupation'] = 'Engineer'\n",
        "\n",
        "# Print the modified dictionary\n",
        "print(person)"
      ],
      "metadata": {
        "colab": {
          "base_uri": "https://localhost:8080/"
        },
        "id": "podpQeBDZAYF",
        "outputId": "8e88d181-f75c-4214-f34c-ec873fcc352e"
      },
      "execution_count": null,
      "outputs": [
        {
          "output_type": "stream",
          "name": "stdout",
          "text": [
            "{'name': 'Alice', 'age': 26, 'city': 'New York', 'occupation': 'Engineer'}\n"
          ]
        }
      ]
    },
    {
      "cell_type": "markdown",
      "source": [
        "In this example, we have modified the value associated with the key 'age' by assigning it a new value 26. We have also added a new key-value pair 'occupation': 'Engineer' to the dictionary. The resulting dictionary will now include these changes."
      ],
      "metadata": {
        "id": "VVUblUIjZMbG"
      }
    },
    {
      "cell_type": "code",
      "source": [
        "#Example 4: Iterating Over a Dictionary\n",
        "# Iterate over keys\n",
        "for key in person:\n",
        "    print(\"key: \", key, \", value: \", person[key])\n",
        "\n",
        "for k,v in person.items():\n",
        "  print(\"key: \", k, \"value: \", v)\n",
        "# Iterate over values\n",
        "for value in person.values():\n",
        "    print(value)\n",
        "\n",
        "# Iterate over key-value pairs\n",
        "for key, value in person.items():\n",
        "    print(key, '=', value)"
      ],
      "metadata": {
        "colab": {
          "base_uri": "https://localhost:8080/"
        },
        "id": "NdSoS0xOZM2v",
        "outputId": "b5fd2ada-6dc7-4af1-f8c1-ac0ae191dcbf"
      },
      "execution_count": null,
      "outputs": [
        {
          "output_type": "stream",
          "name": "stdout",
          "text": [
            "key:  name , value:  Alice\n",
            "key:  age , value:  26\n",
            "key:  city , value:  New York\n",
            "key:  occupation , value:  Engineer\n",
            "key:  name value:  Alice\n",
            "key:  age value:  26\n",
            "key:  city value:  New York\n",
            "key:  occupation value:  Engineer\n",
            "Alice\n",
            "26\n",
            "New York\n",
            "Engineer\n",
            "name = Alice\n",
            "age = 26\n",
            "city = New York\n",
            "occupation = Engineer\n"
          ]
        }
      ]
    },
    {
      "cell_type": "code",
      "source": [
        "\"height\" in person"
      ],
      "metadata": {
        "colab": {
          "base_uri": "https://localhost:8080/"
        },
        "id": "YuFufYMTbuDq",
        "outputId": "c328d509-f0da-41cc-c008-c88922bcd516"
      },
      "execution_count": null,
      "outputs": [
        {
          "output_type": "execute_result",
          "data": {
            "text/plain": [
              "False"
            ]
          },
          "metadata": {},
          "execution_count": 102
        }
      ]
    },
    {
      "cell_type": "code",
      "source": [
        "\"age\" in person"
      ],
      "metadata": {
        "colab": {
          "base_uri": "https://localhost:8080/"
        },
        "id": "ctrV-JltbzBR",
        "outputId": "f936d861-0e85-4c7c-baca-ea27860c3803"
      },
      "execution_count": null,
      "outputs": [
        {
          "output_type": "execute_result",
          "data": {
            "text/plain": [
              "True"
            ]
          },
          "metadata": {},
          "execution_count": 101
        }
      ]
    },
    {
      "cell_type": "markdown",
      "source": [
        "You can iterate over a dictionary using a for loop. By default, iterating over a dictionary will give you the keys. To iterate over the values, you can use the values() method. If you want to access both the keys and values together, you can use the items() method, which returns key-value pairs.\n",
        "\n",
        "Dictionaries are versatile and widely used in Python for various purposes. They allow you to store and retrieve data efficiently based on meaningful keys, making them a powerful tool for managing collections of related information."
      ],
      "metadata": {
        "id": "3kkBVyi-ZlIh"
      }
    },
    {
      "cell_type": "markdown",
      "source": [
        "Tuples"
      ],
      "metadata": {
        "id": "iGdM4w7CcAJ8"
      }
    },
    {
      "cell_type": "code",
      "source": [
        "# Create a tuple of fruits\n",
        "fruits = (\"apple\", \"banana\", \"orange\")"
      ],
      "metadata": {
        "id": "k-kFIKVpcJ6S"
      },
      "execution_count": null,
      "outputs": []
    },
    {
      "cell_type": "code",
      "source": [
        "# Access the first element\n",
        "print(fruits[0])  # Output: apple\n",
        "\n",
        "# Access the last element\n",
        "print(fruits[-1])  # Output: orange"
      ],
      "metadata": {
        "colab": {
          "base_uri": "https://localhost:8080/"
        },
        "id": "fQ3v1UCzLSK0",
        "outputId": "367f8216-200b-4bf5-fa7d-8bad6b3a3c97"
      },
      "execution_count": null,
      "outputs": [
        {
          "output_type": "stream",
          "name": "stdout",
          "text": [
            "apple\n",
            "orange\n"
          ]
        }
      ]
    },
    {
      "cell_type": "code",
      "source": [
        "# Concatenate two tuples\n",
        "numbers = (1, 2, 3)\n",
        "combined = fruits + numbers\n",
        "print(combined)  # Output: (\"apple\", \"banana\", \"orange\", 1, 2, 3)"
      ],
      "metadata": {
        "colab": {
          "base_uri": "https://localhost:8080/"
        },
        "id": "47bOgK5gLT4f",
        "outputId": "33560160-c7e7-451f-c42e-a72e95c9cdc6"
      },
      "execution_count": null,
      "outputs": [
        {
          "output_type": "stream",
          "name": "stdout",
          "text": [
            "('apple', 'banana', 'orange', 1, 2, 3)\n"
          ]
        }
      ]
    },
    {
      "cell_type": "code",
      "source": [
        "# Get the length of a tuple\n",
        "print(len(fruits))  # Output: 3"
      ],
      "metadata": {
        "colab": {
          "base_uri": "https://localhost:8080/"
        },
        "id": "9m8s8U0uLWwX",
        "outputId": "20afb0aa-bdcb-457a-ef65-1d64d1ce407a"
      },
      "execution_count": null,
      "outputs": [
        {
          "output_type": "stream",
          "name": "stdout",
          "text": [
            "3\n"
          ]
        }
      ]
    },
    {
      "cell_type": "code",
      "source": [
        "# Slice a tuple to get a subset of elements\n",
        "subset = fruits[1:3]\n",
        "print(subset)  # Output: (\"banana\", \"orange\")"
      ],
      "metadata": {
        "colab": {
          "base_uri": "https://localhost:8080/"
        },
        "id": "jbrOrV-FLYn0",
        "outputId": "c0b0a1a3-1b90-43e7-e923-f12aceafe659"
      },
      "execution_count": null,
      "outputs": [
        {
          "output_type": "stream",
          "name": "stdout",
          "text": [
            "('banana', 'orange')\n"
          ]
        }
      ]
    },
    {
      "cell_type": "code",
      "source": [
        "# Count the number of occurrences of an element in a tuple\n",
        "count = fruits.count(\"banana\")\n",
        "print(count)  # Output: 1"
      ],
      "metadata": {
        "colab": {
          "base_uri": "https://localhost:8080/"
        },
        "id": "AzbDTYDdLeUn",
        "outputId": "d6e6742e-d015-4431-99dc-5cc991fb98a3"
      },
      "execution_count": null,
      "outputs": [
        {
          "output_type": "stream",
          "name": "stdout",
          "text": [
            "1\n"
          ]
        }
      ]
    },
    {
      "cell_type": "code",
      "source": [
        "# Find the index of the first occurrence of an element in a tuple\n",
        "index = fruits.index(\"orange\")\n",
        "print(index)  # Output: 2"
      ],
      "metadata": {
        "colab": {
          "base_uri": "https://localhost:8080/"
        },
        "id": "a8pK09XyLe_3",
        "outputId": "77ac4984-666b-4fe2-88d4-5b3bbc318ec1"
      },
      "execution_count": null,
      "outputs": [
        {
          "output_type": "stream",
          "name": "stdout",
          "text": [
            "2\n"
          ]
        }
      ]
    },
    {
      "cell_type": "code",
      "source": [
        "# Unpack a tuple into separate variables\n",
        "name, age, city = (\"Alice\", 25, \"New York\")\n",
        "print(name, age, city)  # Output: Alice 25 New York"
      ],
      "metadata": {
        "colab": {
          "base_uri": "https://localhost:8080/"
        },
        "id": "b2s6GPieLhF3",
        "outputId": "eb75382f-ab8d-4ec4-d4d4-5555f181c0ee"
      },
      "execution_count": null,
      "outputs": [
        {
          "output_type": "stream",
          "name": "stdout",
          "text": [
            "Alice 25 New York\n"
          ]
        }
      ]
    },
    {
      "cell_type": "code",
      "source": [
        "# Iterate over a tuple\n",
        "for fruit in fruits:\n",
        "    print(fruit)"
      ],
      "metadata": {
        "colab": {
          "base_uri": "https://localhost:8080/"
        },
        "id": "kRVjxTmyLvJG",
        "outputId": "bf714ec5-4870-45e1-f7b0-0fe55ee3c37a"
      },
      "execution_count": null,
      "outputs": [
        {
          "output_type": "stream",
          "name": "stdout",
          "text": [
            "apple\n",
            "banana\n",
            "orange\n"
          ]
        }
      ]
    },
    {
      "cell_type": "code",
      "source": [
        "# Attempt to modify a tuple (will result in an error)\n",
        "fruits[0] = \"pear\""
      ],
      "metadata": {
        "colab": {
          "base_uri": "https://localhost:8080/",
          "height": 183
        },
        "id": "iD7o1aDMLxc2",
        "outputId": "a76cc931-668a-429f-8f7a-ec6f8f061523"
      },
      "execution_count": null,
      "outputs": [
        {
          "output_type": "error",
          "ename": "TypeError",
          "evalue": "ignored",
          "traceback": [
            "\u001b[0;31m---------------------------------------------------------------------------\u001b[0m",
            "\u001b[0;31mTypeError\u001b[0m                                 Traceback (most recent call last)",
            "\u001b[0;32m<ipython-input-10-afec3c290a1e>\u001b[0m in \u001b[0;36m<cell line: 2>\u001b[0;34m()\u001b[0m\n\u001b[1;32m      1\u001b[0m \u001b[0;31m# Attempt to modify a tuple (will result in an error)\u001b[0m\u001b[0;34m\u001b[0m\u001b[0;34m\u001b[0m\u001b[0m\n\u001b[0;32m----> 2\u001b[0;31m \u001b[0mfruits\u001b[0m\u001b[0;34m[\u001b[0m\u001b[0;36m0\u001b[0m\u001b[0;34m]\u001b[0m \u001b[0;34m=\u001b[0m \u001b[0;34m\"pear\"\u001b[0m\u001b[0;34m\u001b[0m\u001b[0;34m\u001b[0m\u001b[0m\n\u001b[0m",
            "\u001b[0;31mTypeError\u001b[0m: 'tuple' object does not support item assignment"
          ]
        }
      ]
    },
    {
      "cell_type": "markdown",
      "source": [
        "**Functions**"
      ],
      "metadata": {
        "id": "X1dIizfwQbVf"
      }
    },
    {
      "cell_type": "code",
      "source": [
        "#Exercise 1: Calculate the sum of two numbers\n",
        "def calculate_sum(a,b):\n",
        "  return a+b\n",
        "\n",
        "calculate_sum(3,8)"
      ],
      "metadata": {
        "id": "Gn4nCa6nQc6U",
        "colab": {
          "base_uri": "https://localhost:8080/"
        },
        "outputId": "56f1f9a9-a7f5-4976-fd9b-37770c456669"
      },
      "execution_count": null,
      "outputs": [
        {
          "output_type": "execute_result",
          "data": {
            "text/plain": [
              "11"
            ]
          },
          "metadata": {},
          "execution_count": 12
        }
      ]
    },
    {
      "cell_type": "code",
      "source": [
        "#Exercise 2: Find the maximum of three numbers\n",
        "def max_finder (a,b,c):\n",
        "  return max(a,b,c)\n",
        "\n",
        "max_finder(3,4,8)"
      ],
      "metadata": {
        "colab": {
          "base_uri": "https://localhost:8080/"
        },
        "id": "o4VNwdlXQQd1",
        "outputId": "a423bce1-b6be-40c3-ec57-d42adc416049"
      },
      "execution_count": null,
      "outputs": [
        {
          "output_type": "execute_result",
          "data": {
            "text/plain": [
              "8"
            ]
          },
          "metadata": {},
          "execution_count": 16
        }
      ]
    },
    {
      "cell_type": "code",
      "source": [
        "#Exercise 3: Count the number of uppercase letters in a string\n",
        "def upper_letters (word):\n",
        "  counter=0\n",
        "  for char in word:\n",
        "    if char.isupper():\n",
        "      counter+=1\n",
        "  return counter\n",
        "\n",
        "upper_letters (\"GoodBye!\")\n"
      ],
      "metadata": {
        "colab": {
          "base_uri": "https://localhost:8080/"
        },
        "id": "0pcKPBbyRwRL",
        "outputId": "b646d44d-43fb-4742-8982-7f3975b4f6f2"
      },
      "execution_count": null,
      "outputs": [
        {
          "output_type": "execute_result",
          "data": {
            "text/plain": [
              "2"
            ]
          },
          "metadata": {},
          "execution_count": 17
        }
      ]
    },
    {
      "cell_type": "code",
      "source": [
        "#Exercise 4: Check if a number is prime\n",
        "def is_prime(num):\n",
        "  if num<2:\n",
        "    return False\n",
        "  for i in range(2,num):\n",
        "    if num%i==0:\n",
        "      return False\n",
        "      break\n",
        "    else:\n",
        "      return True\n",
        "      break\n",
        "\n",
        "is_prime(12)\n"
      ],
      "metadata": {
        "colab": {
          "base_uri": "https://localhost:8080/"
        },
        "id": "cIDJP6OWSYnR",
        "outputId": "dd0ed4f1-26b7-4d1f-d2e5-7b51127186ea"
      },
      "execution_count": null,
      "outputs": [
        {
          "output_type": "execute_result",
          "data": {
            "text/plain": [
              "False"
            ]
          },
          "metadata": {},
          "execution_count": 24
        }
      ]
    },
    {
      "cell_type": "code",
      "source": [
        "#Exercise 5: write a function to calculate total expenses for multiple poeple\n",
        "def total_num(lists):\n",
        "  total = 0\n",
        "  for item in lists:\n",
        "    total +=item\n",
        "  return total\n",
        "\n",
        "Jims_expenses = [2000,3500,6800]\n",
        "Jacks_expenses = [1200,652,394]\n",
        "Jims_total = total_num(Jims_expenses)\n",
        "Jacks_total = total_num(Jacks_expenses)\n",
        "\n",
        "print(\"Jim's total expenses: \", Jims_total)\n",
        "print(\"Jack's total expenses: \", Jacks_total)"
      ],
      "metadata": {
        "colab": {
          "base_uri": "https://localhost:8080/"
        },
        "id": "8oHpFo1gLyB9",
        "outputId": "e76c9931-d161-4aaf-8361-652e4ad05fb1"
      },
      "execution_count": null,
      "outputs": [
        {
          "output_type": "stream",
          "name": "stdout",
          "text": [
            "Jim's total expenses:  12300\n",
            "Jack's total expenses:  2246\n"
          ]
        }
      ]
    },
    {
      "cell_type": "code",
      "source": [
        "y = 20  # Global variable\n",
        "\n",
        "def my_function():\n",
        "    global y\n",
        "    print(y)\n",
        "    y = 30\n",
        "\n",
        "my_function()  # Output: 20\n",
        "print(y)  # Output: 30"
      ],
      "metadata": {
        "colab": {
          "base_uri": "https://localhost:8080/"
        },
        "id": "2fsds-11ZLNf",
        "outputId": "cbb748d5-541a-4fad-8ed1-d24e6739a3ed"
      },
      "execution_count": null,
      "outputs": [
        {
          "output_type": "stream",
          "name": "stdout",
          "text": [
            "20\n",
            "30\n",
            "30\n"
          ]
        }
      ]
    },
    {
      "cell_type": "code",
      "source": [],
      "metadata": {
        "id": "A0dqfLg0YeuM"
      },
      "execution_count": null,
      "outputs": []
    },
    {
      "cell_type": "markdown",
      "source": [
        "# Part Four"
      ],
      "metadata": {
        "id": "S5vrrnZ-QtWY"
      }
    },
    {
      "cell_type": "markdown",
      "source": [
        "**Class 4**"
      ],
      "metadata": {
        "id": "os23nKnkQtWl"
      }
    },
    {
      "cell_type": "markdown",
      "source": [
        "**Object Oriented Programming**"
      ],
      "metadata": {
        "id": "j7qxWDx-QtWl"
      }
    },
    {
      "cell_type": "markdown",
      "source": [
        "**Classes**"
      ],
      "metadata": {
        "id": "-AdVuZ4qQtWl"
      }
    },
    {
      "cell_type": "code",
      "source": [
        "#class\n",
        "\n",
        "# Define a class representing a Car\n",
        "class Car:\n",
        "\n",
        "#properties\n",
        "  def __init__(self, color, brand):\n",
        "    self.color = color\n",
        "    self.brand = brand\n",
        "\n",
        "#methods\n",
        "  def accelerate(self):\n",
        "    print(f\"{self.color} {self.brand} is accelerating\")\n",
        "\n",
        "  def drives(self):\n",
        "    if self.brand == \"Ferrari\":\n",
        "      print (self.name, \"drives fast\")\n",
        "    elif self.brand == \"BMW\":\n",
        "      print (self.brand, \"drives faster\")\n",
        "\n",
        "# Create objects of the Car class\n",
        "car1 = Car(\"red\", \"Ferrari\")\n",
        "car2 = Car(\"blue\", \"BMW\")\n",
        "\n",
        "# Accessing object attributes and methods\n",
        "print(car1.color)         # Output: red\n",
        "print(car2.brand)         # Output: BMW\n",
        "car1.accelerate()         # Output: The red Ferrari is accelerating.\n",
        "car2.drives()"
      ],
      "metadata": {
        "id": "aLiW5MnNQtWl",
        "outputId": "cf281aa5-c425-4d15-99bf-c299b5aa6646",
        "colab": {
          "base_uri": "https://localhost:8080/"
        }
      },
      "execution_count": null,
      "outputs": [
        {
          "output_type": "stream",
          "name": "stdout",
          "text": [
            "red\n",
            "BMW\n",
            "red Ferrari is accelerating\n",
            "BMW drives faster\n"
          ]
        }
      ]
    },
    {
      "cell_type": "code",
      "source": [
        "# Define a class representing a BankAccount\n",
        "class BankAccount:\n",
        "    def __init__(self, account_number):\n",
        "        self.__account_number = account_number  # Encapsulated private attribute\n",
        "\n",
        "    def deposit(self, amount):\n",
        "        # Perform necessary operations for depositing\n",
        "        print(f\"Depositing ${amount} to Account Number: {self.__account_number}\")\n",
        "\n",
        "    def withdraw(self, amount):\n",
        "        # Perform necessary operations for withdrawal\n",
        "        print(f\"Withdrawing ${amount} from Account Number: {self.__account_number}\")\n",
        "\n",
        "# Create an object of the BankAccount class\n",
        "account = BankAccount(\"1234567890\")\n",
        "\n",
        "# Accessing private attribute (not recommended)\n",
        "print(account._BankAccount__account_number)  # Output: 1234567890\n",
        "\n",
        "# Using public methods to interact with the object\n",
        "account.deposit(1000)           # Output: Depositing $1000 to Account Number: 1234567890\n",
        "account.withdraw(500)           # Output: Withdrawing $500 from Account Number: 1234567890\n"
      ],
      "metadata": {
        "id": "ZWXNP1jQSl0p"
      },
      "execution_count": null,
      "outputs": []
    },
    {
      "cell_type": "markdown",
      "source": [
        "**File I/O**"
      ],
      "metadata": {
        "id": "ZOJI5zPQQ4H5"
      }
    },
    {
      "cell_type": "code",
      "source": [
        "# Opening a file in read mode\n",
        "file = open(\"sample.txt\", \"r\")\n",
        "data = file.read()  # Reading the entire file content\n",
        "print(data)\n",
        "file.close()  # Closing the file\n",
        "\n",
        "# Opening a file in write mode and writing data to it\n",
        "file = open(\"output.txt\", \"w\")\n",
        "file.write(\"Hello, world!\\n\")\n",
        "file.write(\"This is a test file.\\n\")\n",
        "file.close()  # Closing the file\n"
      ],
      "metadata": {
        "id": "28FYwqW4T14m"
      },
      "execution_count": null,
      "outputs": []
    }
  ]
}
