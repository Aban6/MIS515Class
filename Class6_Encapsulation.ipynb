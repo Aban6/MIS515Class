{
  "nbformat": 4,
  "nbformat_minor": 0,
  "metadata": {
    "colab": {
      "provenance": [],
      "authorship_tag": "ABX9TyOpGLWb/c8uWLWpKFUbaWSa",
      "include_colab_link": true
    },
    "kernelspec": {
      "name": "python3",
      "display_name": "Python 3"
    },
    "language_info": {
      "name": "python"
    }
  },
  "cells": [
    {
      "cell_type": "markdown",
      "metadata": {
        "id": "view-in-github",
        "colab_type": "text"
      },
      "source": [
        "<a href=\"https://colab.research.google.com/github/Aban6/Teaching_OOP-for-Business-Applications/blob/main/Class6_Encapsulation.ipynb\" target=\"_parent\"><img src=\"https://colab.research.google.com/assets/colab-badge.svg\" alt=\"Open In Colab\"/></a>"
      ]
    },
    {
      "cell_type": "markdown",
      "source": [
        "#Class 6"
      ],
      "metadata": {
        "id": "-ZXVaVcqgK8q"
      }
    },
    {
      "cell_type": "markdown",
      "source": [
        "**Encapsulation**"
      ],
      "metadata": {
        "id": "2gn3fX2M7LUt"
      }
    },
    {
      "cell_type": "markdown",
      "source": [
        "starting with a simple class to define how much we should pay for a book.\n",
        "\n",
        "\n",
        "\n"
      ],
      "metadata": {
        "id": "q-4bi9nlFWtK"
      }
    },
    {
      "cell_type": "code",
      "source": [
        "class Payment:\n",
        "  def __init__(self,price):\n",
        "    self.final_price = price + price*0.05   #including 5% tax\n",
        "\n",
        "book = Payment(25)\n",
        "print (book.final_price)\n"
      ],
      "metadata": {
        "colab": {
          "base_uri": "https://localhost:8080/"
        },
        "id": "URmGYIWYEtkA",
        "outputId": "8aff94ba-9749-4acc-f5b8-45435ad3161e"
      },
      "execution_count": null,
      "outputs": [
        {
          "output_type": "stream",
          "name": "stdout",
          "text": [
            "26.25\n"
          ]
        }
      ]
    },
    {
      "cell_type": "markdown",
      "source": [
        "what happens if the user changes the value of final_price? Do we want to give the user this control over the data? Or do we want to restrict the user's access to the difinition of the final price?"
      ],
      "metadata": {
        "id": "g9rStZcpFdbg"
      }
    },
    {
      "cell_type": "code",
      "source": [
        "class Payment:\n",
        "  def __init__(self,price):\n",
        "    self.final_price = price + price*0.05   #including 5% tax\n",
        "\n",
        "book = Payment(25)\n",
        "book.final_price = 0    # this is where the user has the ability to compromise the integrity of our code\n",
        "print (book.final_price)"
      ],
      "metadata": {
        "colab": {
          "base_uri": "https://localhost:8080/"
        },
        "id": "v88BDwT9GB8i",
        "outputId": "00e9bd58-c284-4ddc-afa9-72239eeceaac"
      },
      "execution_count": null,
      "outputs": [
        {
          "output_type": "stream",
          "name": "stdout",
          "text": [
            "0\n"
          ]
        }
      ]
    },
    {
      "cell_type": "markdown",
      "source": [
        "In programming projects, we never want to risk the integrity of our code with random changes that the users might make.\n",
        "So, make some variables private and allow changes only through methods inside the class."
      ],
      "metadata": {
        "id": "j_tIxepEF9ui"
      }
    },
    {
      "cell_type": "code",
      "source": [
        "class Payment:\n",
        "  def __init__(self,price):\n",
        "    self.__final_price = price + price*0.05   #including 5% tax\n",
        "\n",
        "book = Payment(25)\n",
        "print (book.__final_price)\n",
        "#we need to define a getter method inside the class to define the value of our private variable"
      ],
      "metadata": {
        "colab": {
          "base_uri": "https://localhost:8080/",
          "height": 211
        },
        "id": "GG8I0FHzGuRd",
        "outputId": "28324c9d-91cb-4895-f27f-c746a4d5268b"
      },
      "execution_count": null,
      "outputs": [
        {
          "output_type": "error",
          "ename": "AttributeError",
          "evalue": "ignored",
          "traceback": [
            "\u001b[0;31m---------------------------------------------------------------------------\u001b[0m",
            "\u001b[0;31mAttributeError\u001b[0m                            Traceback (most recent call last)",
            "\u001b[0;32m<ipython-input-13-b25902ad7297>\u001b[0m in \u001b[0;36m<cell line: 6>\u001b[0;34m()\u001b[0m\n\u001b[1;32m      4\u001b[0m \u001b[0;34m\u001b[0m\u001b[0m\n\u001b[1;32m      5\u001b[0m \u001b[0mbook\u001b[0m \u001b[0;34m=\u001b[0m \u001b[0mPayment\u001b[0m\u001b[0;34m(\u001b[0m\u001b[0;36m25\u001b[0m\u001b[0;34m)\u001b[0m\u001b[0;34m\u001b[0m\u001b[0;34m\u001b[0m\u001b[0m\n\u001b[0;32m----> 6\u001b[0;31m \u001b[0mprint\u001b[0m \u001b[0;34m(\u001b[0m\u001b[0mbook\u001b[0m\u001b[0;34m.\u001b[0m\u001b[0m__final_price\u001b[0m\u001b[0;34m)\u001b[0m\u001b[0;34m\u001b[0m\u001b[0;34m\u001b[0m\u001b[0m\n\u001b[0m",
            "\u001b[0;31mAttributeError\u001b[0m: 'Payment' object has no attribute '__final_price'"
          ]
        }
      ]
    },
    {
      "cell_type": "markdown",
      "source": [
        "We need to define a getter method inside the class to define the value of our private variable"
      ],
      "metadata": {
        "id": "gEjTDdJKJ7PI"
      }
    },
    {
      "cell_type": "code",
      "source": [
        "class Payment:\n",
        "  def __init__(self,price):\n",
        "    self.__final_price = price + price*0.05   #including 5% tax\n",
        "  def get_final_price(self):\n",
        "    return self.__final_price\n",
        "\n",
        "book = Payment(25)\n",
        "\n",
        "book.final_price = 0  # This line has no effect anymore.\n",
        "\n",
        "print (book.get_final_price())"
      ],
      "metadata": {
        "colab": {
          "base_uri": "https://localhost:8080/"
        },
        "id": "SOO7omFxIxa4",
        "outputId": "bc4d55a2-242e-4e81-e27b-a56e6577d176"
      },
      "execution_count": null,
      "outputs": [
        {
          "output_type": "stream",
          "name": "stdout",
          "text": [
            "26.25\n"
          ]
        }
      ]
    },
    {
      "cell_type": "markdown",
      "source": [
        "If you want to create an option to change private variables, you can create a setter method inside the class:"
      ],
      "metadata": {
        "id": "ndqHp2d3JtPV"
      }
    },
    {
      "cell_type": "code",
      "source": [
        "class Payment:\n",
        "  def __init__(self,price):\n",
        "    self.__final_price = price + price*0.05   #including 5% tax\n",
        "  def get_final_price(self):\n",
        "    return self.__final_price\n",
        "\n",
        "  def set_final_price(self,discount):\n",
        "     self.__final_price =  self.__final_price - (self.__final_price*(discount/100))    #in case you have a coupon with discount percentage\n",
        "\n",
        "book = Payment(25)\n",
        "book.set_final_price(10)\n",
        "book.final_price = 0  # This line has no effect anymore.\n",
        "\n",
        "print (book.get_final_price())"
      ],
      "metadata": {
        "colab": {
          "base_uri": "https://localhost:8080/"
        },
        "id": "4WNvDUj4J33k",
        "outputId": "a4263907-2cc3-4b89-af64-2e31b96b1628"
      },
      "execution_count": null,
      "outputs": [
        {
          "output_type": "stream",
          "name": "stdout",
          "text": [
            "23.625\n"
          ]
        }
      ]
    },
    {
      "cell_type": "markdown",
      "source": [
        "We can also define some private methods inside the class:"
      ],
      "metadata": {
        "id": "-r_M9kVoMOtK"
      }
    },
    {
      "cell_type": "code",
      "source": [
        "class Payment:\n",
        "  def __init__(self,price):\n",
        "    self.__final_price = price + price*0.05   #including 5% tax\n",
        "  def get_final_price(self):\n",
        "    return self.__final_price\n",
        "\n",
        "  def set_final_price(self,discount):\n",
        "     self.__final_price =  self.__final_price - (self.__calculate_discount(discount))    #in case you have a coupon with discount percentage\n",
        "\n",
        "  def __calculate_discount(self,discount):\n",
        "    return self.__final_price * (discount/100)\n",
        "book = Payment(25)\n",
        "#book.__calculate_discount (10)  # this line won't work, because this method is private.\n",
        "book.set_final_price(20)\n",
        "book.final_price = 0  # This line has no effect anymore.\n",
        "\n",
        "print (book.get_final_price())"
      ],
      "metadata": {
        "colab": {
          "base_uri": "https://localhost:8080/"
        },
        "id": "OaMhFfPHMSny",
        "outputId": "9df497dc-4b1b-4829-efaa-47cd1c4475d0"
      },
      "execution_count": null,
      "outputs": [
        {
          "output_type": "stream",
          "name": "stdout",
          "text": [
            "21.0\n"
          ]
        }
      ]
    },
    {
      "cell_type": "markdown",
      "source": [
        "Encapsulation is one of the fundamental principles of Object-Oriented Programming (OOP). It refers to the bundling of data (attributes or properties) and the methods (functions) that operate on that data into a single unit called a class. Encapsulation helps in controlling the access to the data by restricting direct access from outside the class and providing a well-defined interface (public methods) to interact with the data. This concept promotes data hiding and abstraction, which are essential for maintaining a clean and organized codebase.\n"
      ],
      "metadata": {
        "id": "YgTsNTzp7REP"
      }
    },
    {
      "cell_type": "code",
      "source": [
        "class Car:\n",
        "    def __init__(self, make, model):\n",
        "        self.make = make\n",
        "        self.model = model\n",
        "        self.__fuel = 0  # Private attribute\n",
        "\n",
        "    def refuel(self, gallons):\n",
        "        if gallons > 0:\n",
        "            self.__fuel += gallons\n",
        "            print(f\"Added {gallons} gallons of fuel to the {self.make} {self.model}.\")\n",
        "\n",
        "    def drive(self, miles):\n",
        "        fuel_needed = miles / 20.0  # Assuming 20 miles per gallon\n",
        "        if self.__fuel >= fuel_needed:\n",
        "            print(f\"Driving {miles} miles in the {self.make} {self.model}.\")\n",
        "            self.__fuel -= fuel_needed\n",
        "        else:\n",
        "            print(f\"Insufficient fuel to drive {miles} miles!\")\n",
        "\n",
        "    def get_fuel_level(self):\n",
        "        return self.__fuel\n",
        "\n",
        "# Creating an instance of the Car class\n",
        "my_car = Car(\"Toyota\", \"Camry\")\n",
        "\n",
        "# Accessing and modifying public attributes\n",
        "print(f\"My car is a {my_car.make} {my_car.model}.\")\n",
        "my_car.make = \"Honda\"\n",
        "print(f\"My car is now a {my_car.make} {my_car.model}.\")\n",
        "\n",
        "# Accessing private attribute directly (not recommended)\n",
        "# This should be avoided to maintain encapsulation\n",
        "#print(f\"Fuel level: {my_car.__fuel}\")\n",
        "\n",
        "# Using public methods to interact with private attribute\n",
        "my_car.refuel(10)\n",
        "my_car.drive(100)\n",
        "print(f\"Fuel level: {my_car.get_fuel_level()}\")  # Using a public method to get the fuel level\n",
        "\n"
      ],
      "metadata": {
        "colab": {
          "base_uri": "https://localhost:8080/"
        },
        "id": "aURfZNT87Pp3",
        "outputId": "bfdc7f17-4d16-46c0-d10d-84cef0a8a6e3"
      },
      "execution_count": null,
      "outputs": [
        {
          "output_type": "stream",
          "name": "stdout",
          "text": [
            "My car is a Toyota Camry.\n",
            "My car is now a Honda Camry.\n",
            "Added 10 gallons of fuel to the Honda Camry.\n",
            "Driving 100 miles in the Honda Camry.\n",
            "Fuel level: 5.0\n"
          ]
        }
      ]
    },
    {
      "cell_type": "markdown",
      "source": [
        "\n",
        "In this example:\n",
        "\n",
        "1. We define a `Car` class with public attributes (`make` and `model`) and a private attribute (`__fuel`).\n",
        "\n",
        "2. Public methods (`refuel`, `drive`, and `get_fuel_level`) are used to interact with the private attribute `__fuel`. These methods provide a controlled interface for modifying and retrieving the fuel level.\n",
        "\n",
        "3. We demonstrate how encapsulation prevents direct access to private attributes from outside the class, which helps maintain data integrity and reduces the risk of unintended modifications.\n",
        "\n",
        "Remember that in Python, attributes with double underscores (`__attribute`) are name-mangled to make them somewhat private, but they can still be accessed if needed. However, it's best practice to use public methods to interact with private attributes to achieve proper encapsulation."
      ],
      "metadata": {
        "id": "5yLSKfvu7anN"
      }
    },
    {
      "cell_type": "code",
      "source": [],
      "metadata": {
        "id": "uE-WKXhxBne5"
      },
      "execution_count": null,
      "outputs": []
    }
  ]
}