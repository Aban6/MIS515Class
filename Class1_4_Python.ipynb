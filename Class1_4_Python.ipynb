{
  "nbformat": 4,
  "nbformat_minor": 0,
  "metadata": {
    "colab": {
      "provenance": [],
      "toc_visible": true,
      "authorship_tag": "ABX9TyMGPunbEzSTmtujOkKLP3kp",
      "include_colab_link": true
    },
    "kernelspec": {
      "name": "python3",
      "display_name": "Python 3"
    },
    "language_info": {
      "name": "python"
    }
  },
  "cells": [
    {
      "cell_type": "markdown",
      "metadata": {
        "id": "view-in-github",
        "colab_type": "text"
      },
      "source": [
        "<a href=\"https://colab.research.google.com/github/Aban6/MIS515Class/blob/main/Class1_4_Python.ipynb\" target=\"_parent\"><img src=\"https://colab.research.google.com/assets/colab-badge.svg\" alt=\"Open In Colab\"/></a>"
      ]
    },
    {
      "cell_type": "markdown",
      "source": [
        "# Part One\n",
        "**Class 1**"
      ],
      "metadata": {
        "id": "O2D8mp0pqb7T"
      }
    },
    {
      "cell_type": "markdown",
      "source": [
        "**Let's get started!**\n",
        "\n",
        "*insert a link*\n",
        "\n",
        "[link text](https://colab.research.google.com/)\n",
        "\n",
        "*insert an image*\n",
        "\n",
        "![python-programming-language.png](data:image/png;base64,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)\n",
        "\n",
        "\n",
        "\n"
      ],
      "metadata": {
        "id": "heSEB5ecpl7o"
      }
    },
    {
      "cell_type": "markdown",
      "source": [
        "# Part Two"
      ],
      "metadata": {
        "id": "J9hceYPRsgbe"
      }
    },
    {
      "cell_type": "markdown",
      "source": [
        "**Class 2**"
      ],
      "metadata": {
        "id": "Z5mTj0LCqUNV"
      }
    },
    {
      "cell_type": "markdown",
      "source": [
        "**Python fundamentals**"
      ],
      "metadata": {
        "id": "5CxTNCCdsHiK"
      }
    },
    {
      "cell_type": "markdown",
      "source": [
        "**Numbers**"
      ],
      "metadata": {
        "id": "ZUdgAn3SFv27"
      }
    },
    {
      "cell_type": "markdown",
      "source": [
        "\n",
        "Clearly sometimes you will want to manipuate your data. You can do simple things like add, subtract, multipy, divide, or even find the remainder."
      ],
      "metadata": {
        "id": "a2cpGTwiJM5h"
      }
    },
    {
      "cell_type": "code",
      "execution_count": 2,
      "metadata": {
        "colab": {
          "base_uri": "https://localhost:8080/"
        },
        "id": "CJO1NunDfT14",
        "outputId": "23c66b2a-dfa6-4c24-a71d-941f92fa0c07"
      },
      "outputs": [
        {
          "output_type": "execute_result",
          "data": {
            "text/plain": [
              "4"
            ]
          },
          "metadata": {},
          "execution_count": 2
        }
      ],
      "source": [
        "2+2"
      ]
    },
    {
      "cell_type": "code",
      "source": [
        "3*2"
      ],
      "metadata": {
        "id": "0pwNUr6GEpfH",
        "outputId": "7fe7b0d9-5115-4927-bf77-18f59dca455d",
        "colab": {
          "base_uri": "https://localhost:8080/"
        }
      },
      "execution_count": 16,
      "outputs": [
        {
          "output_type": "execute_result",
          "data": {
            "text/plain": [
              "6"
            ]
          },
          "metadata": {},
          "execution_count": 16
        }
      ]
    },
    {
      "cell_type": "code",
      "source": [
        "10/5"
      ],
      "metadata": {
        "id": "42r93TjiEtQs",
        "outputId": "6855e7d9-3339-4a54-8233-ae5b6d740414",
        "colab": {
          "base_uri": "https://localhost:8080/"
        }
      },
      "execution_count": 17,
      "outputs": [
        {
          "output_type": "execute_result",
          "data": {
            "text/plain": [
              "2.0"
            ]
          },
          "metadata": {},
          "execution_count": 17
        }
      ]
    },
    {
      "cell_type": "code",
      "source": [
        "11%2"
      ],
      "metadata": {
        "id": "IJAzvpUGEl8z",
        "outputId": "42d35788-0b80-4044-ea16-ce1cb200bee1",
        "colab": {
          "base_uri": "https://localhost:8080/"
        }
      },
      "execution_count": 15,
      "outputs": [
        {
          "output_type": "execute_result",
          "data": {
            "text/plain": [
              "1"
            ]
          },
          "metadata": {},
          "execution_count": 15
        }
      ]
    },
    {
      "cell_type": "code",
      "source": [],
      "metadata": {
        "id": "Na8Nwm3DFWfp"
      },
      "execution_count": null,
      "outputs": []
    },
    {
      "cell_type": "markdown",
      "source": [
        "**integers vs. float numbers**"
      ],
      "metadata": {
        "id": "J8WsfYGsFXN8"
      }
    },
    {
      "cell_type": "code",
      "source": [
        "int = 1\n",
        "float = 3.145678952222\n",
        "\n",
        "float"
      ],
      "metadata": {
        "id": "twqRDj4-Ffj3",
        "outputId": "9d62b763-3bd0-4cea-d268-56f903e70dd8",
        "colab": {
          "base_uri": "https://localhost:8080/"
        }
      },
      "execution_count": 19,
      "outputs": [
        {
          "output_type": "execute_result",
          "data": {
            "text/plain": [
              "3.145678952222"
            ]
          },
          "metadata": {},
          "execution_count": 19
        }
      ]
    },
    {
      "cell_type": "code",
      "source": [
        "round(float,3)"
      ],
      "metadata": {
        "id": "muB2QTuoFo9v",
        "outputId": "10b32d29-6b89-4da2-ed07-ffea1722c89c",
        "colab": {
          "base_uri": "https://localhost:8080/"
        }
      },
      "execution_count": 20,
      "outputs": [
        {
          "output_type": "execute_result",
          "data": {
            "text/plain": [
              "3.146"
            ]
          },
          "metadata": {},
          "execution_count": 20
        }
      ]
    },
    {
      "cell_type": "markdown",
      "source": [
        "**Strings**\n",
        "\n",
        "**Hello World!**"
      ],
      "metadata": {
        "id": "frrtbGdtfbaU"
      }
    },
    {
      "cell_type": "markdown",
      "source": [
        "Strings\n",
        "Strings are used ALL THE TIME in Python. Strings are enclosed in quotes. Python treats single quotes the same as double quotes (but be consistent).\n",
        "\n",
        "Double quotes allow you to enclose single quotes.\n",
        "\n",
        "There are also triple double quotes \"\"\"...\"\"\" They allow you to write strings that span multiple lines.\n",
        "\n",
        "There are many, many built-in functionalities that you will eventually learn. It is impossible to cover (and remember) them all in one sitting.\n",
        "\n"
      ],
      "metadata": {
        "id": "H-Ae-N6PJDuJ"
      }
    },
    {
      "cell_type": "code",
      "source": [
        "print (\"Hello World!\")"
      ],
      "metadata": {
        "colab": {
          "base_uri": "https://localhost:8080/"
        },
        "id": "9Jxse6vVfhFs",
        "outputId": "9755612c-6a80-4aec-8481-9aa777340210"
      },
      "execution_count": 4,
      "outputs": [
        {
          "output_type": "stream",
          "name": "stdout",
          "text": [
            "Hello World!\n"
          ]
        }
      ]
    },
    {
      "cell_type": "code",
      "source": [
        "my_txt = \"classroom\"\n",
        "my_txt"
      ],
      "metadata": {
        "id": "xEOC3kdiGSqy",
        "outputId": "ee5ba359-b454-4fa4-9dc9-526ef84d6d8b",
        "colab": {
          "base_uri": "https://localhost:8080/",
          "height": 35
        }
      },
      "execution_count": 21,
      "outputs": [
        {
          "output_type": "execute_result",
          "data": {
            "text/plain": [
              "'classroom'"
            ],
            "application/vnd.google.colaboratory.intrinsic+json": {
              "type": "string"
            }
          },
          "metadata": {},
          "execution_count": 21
        }
      ]
    },
    {
      "cell_type": "markdown",
      "source": [
        "**Accessing parts of a String**"
      ],
      "metadata": {
        "id": "aZn7GK8FJtsX"
      }
    },
    {
      "cell_type": "markdown",
      "source": [
        "You can access an entire string variable, or just parts of it. Square brackets are used to specify the index of the data you want. (Indices always start at 0.)"
      ],
      "metadata": {
        "id": "swyQSaNNJzMg"
      }
    },
    {
      "cell_type": "code",
      "source": [
        "#accessing each character by index\n",
        "my_txt[0]"
      ],
      "metadata": {
        "id": "bbZ10o6FGbxz",
        "outputId": "9c70b775-743c-462b-fdad-127bf202bedc",
        "colab": {
          "base_uri": "https://localhost:8080/",
          "height": 35
        }
      },
      "execution_count": 22,
      "outputs": [
        {
          "output_type": "execute_result",
          "data": {
            "text/plain": [
              "'c'"
            ],
            "application/vnd.google.colaboratory.intrinsic+json": {
              "type": "string"
            }
          },
          "metadata": {},
          "execution_count": 22
        }
      ]
    },
    {
      "cell_type": "code",
      "source": [
        "my_txt[5:9]"
      ],
      "metadata": {
        "id": "wX-tyyX_Gpi2",
        "outputId": "d76d40be-cb6f-4822-8621-143c018890c8",
        "colab": {
          "base_uri": "https://localhost:8080/",
          "height": 35
        }
      },
      "execution_count": 25,
      "outputs": [
        {
          "output_type": "execute_result",
          "data": {
            "text/plain": [
              "'room'"
            ],
            "application/vnd.google.colaboratory.intrinsic+json": {
              "type": "string"
            }
          },
          "metadata": {},
          "execution_count": 25
        }
      ]
    },
    {
      "cell_type": "code",
      "source": [
        "my_txt[5:]"
      ],
      "metadata": {
        "id": "Qkyn7qY9G1bG",
        "outputId": "92a55de5-9cd2-43dd-fb62-01897cdb51d7",
        "colab": {
          "base_uri": "https://localhost:8080/",
          "height": 35
        }
      },
      "execution_count": 26,
      "outputs": [
        {
          "output_type": "execute_result",
          "data": {
            "text/plain": [
              "'room'"
            ],
            "application/vnd.google.colaboratory.intrinsic+json": {
              "type": "string"
            }
          },
          "metadata": {},
          "execution_count": 26
        }
      ]
    },
    {
      "cell_type": "code",
      "source": [
        "my_txt[:5]"
      ],
      "metadata": {
        "id": "jOLyZMObG6UI",
        "outputId": "bb3c26b9-6a61-41bc-bc21-51c29eb755a3",
        "colab": {
          "base_uri": "https://localhost:8080/",
          "height": 35
        }
      },
      "execution_count": 28,
      "outputs": [
        {
          "output_type": "execute_result",
          "data": {
            "text/plain": [
              "'class'"
            ],
            "application/vnd.google.colaboratory.intrinsic+json": {
              "type": "string"
            }
          },
          "metadata": {},
          "execution_count": 28
        }
      ]
    },
    {
      "cell_type": "code",
      "source": [
        "address = '''San Diego\n",
        "CA\n",
        "USA'''\n",
        "print(address)"
      ],
      "metadata": {
        "id": "tfTxRVheG921",
        "outputId": "988f9818-1966-4fbb-aba9-d450010c9f87",
        "colab": {
          "base_uri": "https://localhost:8080/"
        }
      },
      "execution_count": 30,
      "outputs": [
        {
          "output_type": "stream",
          "name": "stdout",
          "text": [
            "San Diego\n",
            "CA\n",
            "USA\n"
          ]
        }
      ]
    },
    {
      "cell_type": "markdown",
      "source": [
        "**String Operators**"
      ],
      "metadata": {
        "id": "H2T7IGSNKZFn"
      }
    },
    {
      "cell_type": "markdown",
      "source": [
        "String operators are special bits of code that ONLY WORK ON STRINGS. So while a \"+\" will add two numbers, it will concatenate Strings instead of adding them."
      ],
      "metadata": {
        "id": "KmDbEP_LKT_R"
      }
    },
    {
      "cell_type": "code",
      "source": [
        "b = \"Fall\"+\"2023\""
      ],
      "metadata": {
        "id": "lvfcbJMTr_b4"
      },
      "execution_count": 7,
      "outputs": []
    },
    {
      "cell_type": "code",
      "source": [
        "b"
      ],
      "metadata": {
        "id": "s66Zwkw4sEj-",
        "outputId": "671c0c25-3f14-4536-c550-6ddb7a498636",
        "colab": {
          "base_uri": "https://localhost:8080/",
          "height": 35
        }
      },
      "execution_count": 8,
      "outputs": [
        {
          "output_type": "execute_result",
          "data": {
            "text/plain": [
              "'Fall2023'"
            ],
            "application/vnd.google.colaboratory.intrinsic+json": {
              "type": "string"
            }
          },
          "metadata": {},
          "execution_count": 8
        }
      ]
    },
    {
      "cell_type": "markdown",
      "source": [
        "**Variables**"
      ],
      "metadata": {
        "id": "XNxPvjCSBVHl"
      }
    },
    {
      "cell_type": "markdown",
      "source": [
        "In order to save data for later use you create a variable. Luckily in Python \"creating\" a variables is as simple as coming up with a name and assigning a value."
      ],
      "metadata": {
        "id": "kXCFKxu6Jbgq"
      }
    },
    {
      "cell_type": "code",
      "source": [
        "a = 3**2"
      ],
      "metadata": {
        "id": "CkDrxZWbnlki"
      },
      "execution_count": 5,
      "outputs": []
    },
    {
      "cell_type": "code",
      "source": [
        "a"
      ],
      "metadata": {
        "id": "AuhBTuA4r-9e",
        "outputId": "802c50e6-463e-42e0-9ad2-60c3e4aee6b1",
        "colab": {
          "base_uri": "https://localhost:8080/"
        }
      },
      "execution_count": 6,
      "outputs": [
        {
          "output_type": "execute_result",
          "data": {
            "text/plain": [
              "9"
            ]
          },
          "metadata": {},
          "execution_count": 6
        }
      ]
    },
    {
      "cell_type": "markdown",
      "source": [
        "*practice*"
      ],
      "metadata": {
        "id": "bTqnn0UpB5a3"
      }
    },
    {
      "cell_type": "code",
      "source": [
        "housing = 1500\n",
        "groceries = 250\n",
        "restaurants = 300\n",
        "coffee = 45\n",
        "print (housing)"
      ],
      "metadata": {
        "id": "3xhvp4rFsKZK",
        "outputId": "dec2f691-0f6f-4717-fec4-a670fbf7b27e",
        "colab": {
          "base_uri": "https://localhost:8080/"
        }
      },
      "execution_count": 10,
      "outputs": [
        {
          "output_type": "stream",
          "name": "stdout",
          "text": [
            "1500\n"
          ]
        }
      ]
    },
    {
      "cell_type": "code",
      "source": [
        "monthly_expenses = housing+groceries+restaurants+coffee\n",
        "print(monthly_expenses)"
      ],
      "metadata": {
        "id": "5lvnz-VpB1Ja",
        "outputId": "de1fa6a0-142c-440a-925d-2812f220929b",
        "colab": {
          "base_uri": "https://localhost:8080/"
        }
      },
      "execution_count": 11,
      "outputs": [
        {
          "output_type": "stream",
          "name": "stdout",
          "text": [
            "2095\n"
          ]
        }
      ]
    },
    {
      "cell_type": "code",
      "source": [
        "item1 = \"housing\"\n",
        "item2 = \"groceries\"\n",
        "item3 = \"restaurants\"\n",
        "item4 = \"coffee\"\n",
        "print(\"Monthly expense items include:\",item1,item2,item3,item4)"
      ],
      "metadata": {
        "id": "ZkID3DtLCn_2",
        "outputId": "d645c82f-1be3-459b-b9a4-2ca6a8971eab",
        "colab": {
          "base_uri": "https://localhost:8080/"
        }
      },
      "execution_count": 14,
      "outputs": [
        {
          "output_type": "stream",
          "name": "stdout",
          "text": [
            "Monthly expense items include: housing groceries restaurants coffee\n"
          ]
        }
      ]
    },
    {
      "cell_type": "markdown",
      "source": [
        "**Data Types**"
      ],
      "metadata": {
        "id": "zASJzWpgP6Ih"
      }
    },
    {
      "cell_type": "code",
      "source": [],
      "metadata": {
        "id": "PTPi5-DiQHWj"
      },
      "execution_count": null,
      "outputs": []
    },
    {
      "cell_type": "markdown",
      "source": [
        "**Conditions**"
      ],
      "metadata": {
        "id": "J9ACBV8NQAj8"
      }
    },
    {
      "cell_type": "code",
      "source": [],
      "metadata": {
        "id": "o8u_htUqQDaC"
      },
      "execution_count": null,
      "outputs": []
    },
    {
      "cell_type": "markdown",
      "source": [
        "**Iterations**"
      ],
      "metadata": {
        "id": "cHXRb8BvQEg-"
      }
    },
    {
      "cell_type": "code",
      "source": [],
      "metadata": {
        "id": "TF7fbpcXP8w5"
      },
      "execution_count": null,
      "outputs": []
    },
    {
      "cell_type": "code",
      "source": [],
      "metadata": {
        "id": "tI5Vv4UyQRpm"
      },
      "execution_count": null,
      "outputs": []
    },
    {
      "cell_type": "markdown",
      "source": [
        "# Part Three"
      ],
      "metadata": {
        "id": "2cXA5ATkQVRG"
      }
    },
    {
      "cell_type": "markdown",
      "source": [
        "**Class 3**"
      ],
      "metadata": {
        "id": "554RNEYxQVRL"
      }
    },
    {
      "cell_type": "markdown",
      "source": [
        "**Collections**"
      ],
      "metadata": {
        "id": "2MMYIErmQVRL"
      }
    },
    {
      "cell_type": "code",
      "source": [],
      "metadata": {
        "id": "-PJFY56XQa0v"
      },
      "execution_count": null,
      "outputs": []
    },
    {
      "cell_type": "markdown",
      "source": [
        "**Functions**"
      ],
      "metadata": {
        "id": "X1dIizfwQbVf"
      }
    },
    {
      "cell_type": "code",
      "source": [],
      "metadata": {
        "id": "Gn4nCa6nQc6U"
      },
      "execution_count": null,
      "outputs": []
    },
    {
      "cell_type": "markdown",
      "source": [
        "# Part Four"
      ],
      "metadata": {
        "id": "S5vrrnZ-QtWY"
      }
    },
    {
      "cell_type": "markdown",
      "source": [
        "**Class 4**"
      ],
      "metadata": {
        "id": "os23nKnkQtWl"
      }
    },
    {
      "cell_type": "markdown",
      "source": [
        "**Object Oriented Programming**"
      ],
      "metadata": {
        "id": "j7qxWDx-QtWl"
      }
    },
    {
      "cell_type": "code",
      "source": [],
      "metadata": {
        "id": "aLiW5MnNQtWl"
      },
      "execution_count": null,
      "outputs": []
    },
    {
      "cell_type": "markdown",
      "source": [
        "**Classes**"
      ],
      "metadata": {
        "id": "-AdVuZ4qQtWl"
      }
    },
    {
      "cell_type": "code",
      "source": [],
      "metadata": {
        "id": "mZe2hQJKQtWl"
      },
      "execution_count": null,
      "outputs": []
    },
    {
      "cell_type": "markdown",
      "source": [
        "**File I/O**"
      ],
      "metadata": {
        "id": "ZOJI5zPQQ4H5"
      }
    }
  ]
}