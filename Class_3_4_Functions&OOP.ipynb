{
  "nbformat": 4,
  "nbformat_minor": 0,
  "metadata": {
    "colab": {
      "provenance": [],
      "authorship_tag": "ABX9TyPuXb4UewOmS+9NZ878C8O8",
      "include_colab_link": true
    },
    "kernelspec": {
      "name": "python3",
      "display_name": "Python 3"
    },
    "language_info": {
      "name": "python"
    }
  },
  "cells": [
    {
      "cell_type": "markdown",
      "metadata": {
        "id": "view-in-github",
        "colab_type": "text"
      },
      "source": [
        "<a href=\"https://colab.research.google.com/github/Aban6/MIS515Class/blob/main/Class_3_4_Functions%26OOP.ipynb\" target=\"_parent\"><img src=\"https://colab.research.google.com/assets/colab-badge.svg\" alt=\"Open In Colab\"/></a>"
      ]
    },
    {
      "cell_type": "markdown",
      "source": [
        "# Part Three"
      ],
      "metadata": {
        "id": "ZVSfT-ERqFam"
      }
    },
    {
      "cell_type": "markdown",
      "source": [
        "**Class 3**"
      ],
      "metadata": {
        "id": "SJ6dT9VYioWR"
      }
    },
    {
      "cell_type": "markdown",
      "source": [
        "**Functions**"
      ],
      "metadata": {
        "id": "X1dIizfwQbVf"
      }
    },
    {
      "cell_type": "markdown",
      "source": [
        "Exercise 1: Calculate the sum of two numbers\n",
        "\n",
        "Exercise 2: Find the maximum of three numbers\n",
        "\n",
        "Exercise 3: Count the number of uppercase letters in a string\n",
        "\n",
        "Exercise 4: Check if a number is prime\n",
        "\n",
        "Exercise 5: write a function to calculate total expenses for multiple poeple\n"
      ],
      "metadata": {
        "id": "FjcdxB3RkXNI"
      }
    },
    {
      "cell_type": "code",
      "source": [
        "#Exercise 1: Calculate the sum of two numbers\n",
        "def calculate_sum(a,b):\n",
        "  return a+b\n",
        "\n",
        "calculate_sum(3,8)"
      ],
      "metadata": {
        "id": "Gn4nCa6nQc6U",
        "colab": {
          "base_uri": "https://localhost:8080/"
        },
        "outputId": "56f1f9a9-a7f5-4976-fd9b-37770c456669"
      },
      "execution_count": null,
      "outputs": [
        {
          "output_type": "execute_result",
          "data": {
            "text/plain": [
              "11"
            ]
          },
          "metadata": {},
          "execution_count": 12
        }
      ]
    },
    {
      "cell_type": "code",
      "source": [
        "#Exercise 2: Find the maximum of three numbers\n",
        "def max_finder (a,b,c):\n",
        "  return max(a,b,c)\n",
        "\n",
        "max_finder(3,4,8)"
      ],
      "metadata": {
        "colab": {
          "base_uri": "https://localhost:8080/"
        },
        "id": "o4VNwdlXQQd1",
        "outputId": "a423bce1-b6be-40c3-ec57-d42adc416049"
      },
      "execution_count": null,
      "outputs": [
        {
          "output_type": "execute_result",
          "data": {
            "text/plain": [
              "8"
            ]
          },
          "metadata": {},
          "execution_count": 16
        }
      ]
    },
    {
      "cell_type": "code",
      "source": [
        "#Exercise 3: Count the number of uppercase letters in a string\n",
        "def upper_letters (word):\n",
        "  counter=0\n",
        "  for char in word:\n",
        "    if char.isupper():\n",
        "      counter+=1\n",
        "  return counter\n",
        "\n",
        "upper_letters (\"GoodBye!\")\n"
      ],
      "metadata": {
        "colab": {
          "base_uri": "https://localhost:8080/"
        },
        "id": "0pcKPBbyRwRL",
        "outputId": "b646d44d-43fb-4742-8982-7f3975b4f6f2"
      },
      "execution_count": null,
      "outputs": [
        {
          "output_type": "execute_result",
          "data": {
            "text/plain": [
              "2"
            ]
          },
          "metadata": {},
          "execution_count": 17
        }
      ]
    },
    {
      "cell_type": "code",
      "source": [
        "#Exercise 4: Check if a number is prime\n",
        "def is_prime(num):\n",
        "  if num<2:\n",
        "    return False\n",
        "  for i in range(2,num):\n",
        "    if num%i==0:\n",
        "      return False\n",
        "      break\n",
        "    else:\n",
        "      return True\n",
        "      break\n",
        "\n",
        "is_prime(12)\n"
      ],
      "metadata": {
        "colab": {
          "base_uri": "https://localhost:8080/"
        },
        "id": "cIDJP6OWSYnR",
        "outputId": "dd0ed4f1-26b7-4d1f-d2e5-7b51127186ea"
      },
      "execution_count": null,
      "outputs": [
        {
          "output_type": "execute_result",
          "data": {
            "text/plain": [
              "False"
            ]
          },
          "metadata": {},
          "execution_count": 24
        }
      ]
    },
    {
      "cell_type": "code",
      "source": [
        "#Exercise 5: write a function to calculate total expenses for multiple poeple\n",
        "def total_num(lists):\n",
        "  total = 0\n",
        "  for item in lists:\n",
        "    total +=item\n",
        "  return total\n",
        "\n",
        "Jims_expenses = [2000,3500,6800]\n",
        "Jacks_expenses = [1200,652,394]\n",
        "Jims_total = total_num(Jims_expenses)\n",
        "Jacks_total = total_num(Jacks_expenses)\n",
        "\n",
        "print(\"Jim's total expenses: \", Jims_total)\n",
        "print(\"Jack's total expenses: \", Jacks_total)"
      ],
      "metadata": {
        "colab": {
          "base_uri": "https://localhost:8080/"
        },
        "id": "8oHpFo1gLyB9",
        "outputId": "e76c9931-d161-4aaf-8361-652e4ad05fb1"
      },
      "execution_count": null,
      "outputs": [
        {
          "output_type": "stream",
          "name": "stdout",
          "text": [
            "Jim's total expenses:  12300\n",
            "Jack's total expenses:  2246\n"
          ]
        }
      ]
    },
    {
      "cell_type": "code",
      "source": [
        "y = 20  # Global variable\n",
        "\n",
        "def my_function():\n",
        "    global y\n",
        "    print(y)\n",
        "    y = 30\n",
        "\n",
        "my_function()  # Output: 20\n",
        "print(y)  # Output: 30"
      ],
      "metadata": {
        "colab": {
          "base_uri": "https://localhost:8080/"
        },
        "id": "2fsds-11ZLNf",
        "outputId": "cbb748d5-541a-4fad-8ed1-d24e6739a3ed"
      },
      "execution_count": null,
      "outputs": [
        {
          "output_type": "stream",
          "name": "stdout",
          "text": [
            "20\n",
            "30\n",
            "30\n"
          ]
        }
      ]
    },
    {
      "cell_type": "markdown",
      "source": [
        "# Part Four"
      ],
      "metadata": {
        "id": "S5vrrnZ-QtWY"
      }
    },
    {
      "cell_type": "markdown",
      "source": [
        "**Class 4**"
      ],
      "metadata": {
        "id": "os23nKnkQtWl"
      }
    },
    {
      "cell_type": "markdown",
      "source": [
        "**Object Oriented Programming**"
      ],
      "metadata": {
        "id": "j7qxWDx-QtWl"
      }
    },
    {
      "cell_type": "markdown",
      "source": [
        "**Classes**"
      ],
      "metadata": {
        "id": "-AdVuZ4qQtWl"
      }
    },
    {
      "cell_type": "code",
      "source": [
        "#Example1\n",
        "\n",
        "# Define a class representing a Car\n",
        "class Car:\n",
        "\n",
        "#properties\n",
        "  def __init__(self, color, brand):\n",
        "    self.color = color\n",
        "    self.brand = brand\n",
        "\n",
        "#methods\n",
        "\n",
        "  def drives(self):\n",
        "    if self.brand == \"Ferrari\":\n",
        "      print (self.brand, \"drives fast\")\n",
        "    else:\n",
        "\n",
        "      print (self.brand, \"drives slower\")\n",
        "\n",
        "# Create objects of the Car class\n",
        "car1 = Car(\"red\", \"Ferrari\")\n",
        "car2 = Car(\"blue\", \"Not Ferrari\")\n",
        "\n",
        "# Accessing object attributes and methods\n",
        "print(car1.color)         # Output: red\n",
        "print(car2.brand)         # Output: Not Ferrari\n",
        "car1.drives()"
      ],
      "metadata": {
        "id": "aLiW5MnNQtWl",
        "colab": {
          "base_uri": "https://localhost:8080/"
        },
        "outputId": "71a4edee-9492-4a16-934a-866f3373ecbe"
      },
      "execution_count": null,
      "outputs": [
        {
          "output_type": "stream",
          "name": "stdout",
          "text": [
            "red\n",
            "Not Ferrari\n",
            "Ferrari drives fast\n"
          ]
        }
      ]
    },
    {
      "cell_type": "code",
      "source": [
        "#Example2\n",
        "\n",
        "# Define a class representing a BankAccount\n",
        "class BankAccount:\n",
        "\n",
        " #properties\n",
        "    def __init__(self, account_number):\n",
        "        self.account_number = account_number\n",
        " #methods\n",
        "    def deposit(self, amount):\n",
        "        # Perform necessary operations for depositing\n",
        "        print(f\"Depositing ${amount} to Account Number: {self.account_number}\")\n",
        "\n",
        "    def withdraw(self, amount):\n",
        "        # Perform necessary operations for withdrawal\n",
        "        print(f\"Withdrawing ${amount} from Account Number: {self.account_number}\")\n",
        "\n",
        "# Create an object of the BankAccount class\n",
        "account = BankAccount(\"1234567890\")\n",
        "\n",
        "# Accessing object attributes and methods\n",
        "print(account.account_number)  # Output: 1234567890\n",
        "\n",
        "account.deposit(1000)           # Output: Depositing $1000 to Account Number: 1234567890\n",
        "account.withdraw(500)           # Output: Withdrawing $500 from Account Number: 1234567890\n"
      ],
      "metadata": {
        "id": "ZWXNP1jQSl0p",
        "colab": {
          "base_uri": "https://localhost:8080/"
        },
        "outputId": "5627b412-929f-4d0a-937f-8b7964cddc52"
      },
      "execution_count": null,
      "outputs": [
        {
          "output_type": "stream",
          "name": "stdout",
          "text": [
            "1234567890\n",
            "Depositing $1000 to Account Number: 1234567890\n",
            "Withdrawing $500 from Account Number: 1234567890\n"
          ]
        }
      ]
    },
    {
      "cell_type": "markdown",
      "source": [
        "Practice 1: In an Employee Management System, you can create a class representing Employees, and calculate their bonus (which is assumed to be 10% of their salary). The properties are emp_id, name, salary. Create a method under this class to calculate employees' bonus."
      ],
      "metadata": {
        "id": "Yt33tvl2s-9p"
      }
    },
    {
      "cell_type": "code",
      "source": [
        "#Practice 1\n",
        "class Employee:\n",
        "    def __init__(self, emp_id, name, salary):\n",
        "        self.emp_id = emp_id\n",
        "        self.name = name\n",
        "        self.salary = salary\n",
        "\n",
        "    def calculate_bonus(self):\n",
        "        return self.salary * 0.1  # Example bonus calculation\n",
        "\n",
        "\n",
        "\n",
        "# Create employee and manager objects\n",
        "employee1 = Employee(1, \"John\", 50000)\n",
        "\n",
        "\n",
        "print (employee1.name)\n",
        "employee1.calculate_bonus()\n"
      ],
      "metadata": {
        "colab": {
          "base_uri": "https://localhost:8080/"
        },
        "id": "Y_b7X76ZszIv",
        "outputId": "dc640c12-4f90-4702-ca49-9d45a570854d"
      },
      "execution_count": null,
      "outputs": [
        {
          "output_type": "stream",
          "name": "stdout",
          "text": [
            "John\n"
          ]
        },
        {
          "output_type": "execute_result",
          "data": {
            "text/plain": [
              "5000.0"
            ]
          },
          "metadata": {},
          "execution_count": 12
        }
      ]
    }
  ]
}